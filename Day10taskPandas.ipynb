{
  "nbformat": 4,
  "nbformat_minor": 0,
  "metadata": {
    "colab": {
      "name": "Day10taskPandas.ipynb",
      "provenance": []
    },
    "kernelspec": {
      "name": "python3",
      "display_name": "Python 3"
    },
    "language_info": {
      "name": "python"
    }
  },
  "cells": [
    {
      "cell_type": "markdown",
      "metadata": {
        "id": "ssCPbmtUu09n"
      },
      "source": [
        "**Accessing Data from Pandas Data structures**"
      ]
    },
    {
      "cell_type": "code",
      "metadata": {
        "id": "sI4iyQctshI4"
      },
      "source": [
        "import numpy as np\n",
        "import pandas as pd\n",
        "import matplotlib.pyplot as plt\n",
        "import seaborn as sns\n",
        "from pandas import DataFrame"
      ],
      "execution_count": 107,
      "outputs": []
    },
    {
      "cell_type": "code",
      "metadata": {
        "id": "EMFL8m9j3BHV"
      },
      "source": [
        "Rohit={'match':1025,\"run\":12955,\"hundrades\":50,\"fivtey\":89,\"sr\":157.4}\n",
        "virat={'match':1924,\"run\":11955,\"hundrades\":89,\"fivtey\":10,\"sr\":197.4}\n",
        "dhoni={'match':9025,\"run\":10985,\"hundrades\":100,\"fivtey\":90,\"sr\":137.4}\n",
        "shikhar={'match':1065,\"run\":12455,\"hundrades\":60,\"fivtey\":89,\"sr\":134.4}\n"
      ],
      "execution_count": 39,
      "outputs": []
    },
    {
      "cell_type": "code",
      "metadata": {
        "id": "P3Kk9wVP3CHe"
      },
      "source": [
        "betsman={'rohit sharma':Rohit,\"virat kholi\":virat,\"m.s dhoni\":dhoni,\"shikhar dhawan\":shikhar}"
      ],
      "execution_count": 40,
      "outputs": []
    },
    {
      "cell_type": "code",
      "metadata": {
        "colab": {
          "base_uri": "https://localhost:8080/",
          "height": 173
        },
        "id": "bj3U55Is3dYx",
        "outputId": "74d8087d-aae7-4f9f-cfc1-807afc6b11f7"
      },
      "source": [
        "df=pd.DataFrame(betsman).T\n",
        "df"
      ],
      "execution_count": 45,
      "outputs": [
        {
          "output_type": "execute_result",
          "data": {
            "text/html": [
              "<div>\n",
              "<style scoped>\n",
              "    .dataframe tbody tr th:only-of-type {\n",
              "        vertical-align: middle;\n",
              "    }\n",
              "\n",
              "    .dataframe tbody tr th {\n",
              "        vertical-align: top;\n",
              "    }\n",
              "\n",
              "    .dataframe thead th {\n",
              "        text-align: right;\n",
              "    }\n",
              "</style>\n",
              "<table border=\"1\" class=\"dataframe\">\n",
              "  <thead>\n",
              "    <tr style=\"text-align: right;\">\n",
              "      <th></th>\n",
              "      <th>match</th>\n",
              "      <th>run</th>\n",
              "      <th>hundrades</th>\n",
              "      <th>fivtey</th>\n",
              "      <th>sr</th>\n",
              "    </tr>\n",
              "  </thead>\n",
              "  <tbody>\n",
              "    <tr>\n",
              "      <th>rohit sharma</th>\n",
              "      <td>1025.0</td>\n",
              "      <td>12955.0</td>\n",
              "      <td>50.0</td>\n",
              "      <td>89.0</td>\n",
              "      <td>157.4</td>\n",
              "    </tr>\n",
              "    <tr>\n",
              "      <th>virat kholi</th>\n",
              "      <td>1924.0</td>\n",
              "      <td>11955.0</td>\n",
              "      <td>89.0</td>\n",
              "      <td>10.0</td>\n",
              "      <td>197.4</td>\n",
              "    </tr>\n",
              "    <tr>\n",
              "      <th>m.s dhoni</th>\n",
              "      <td>9025.0</td>\n",
              "      <td>10985.0</td>\n",
              "      <td>100.0</td>\n",
              "      <td>90.0</td>\n",
              "      <td>137.4</td>\n",
              "    </tr>\n",
              "    <tr>\n",
              "      <th>shikhar dhawan</th>\n",
              "      <td>1065.0</td>\n",
              "      <td>12455.0</td>\n",
              "      <td>60.0</td>\n",
              "      <td>89.0</td>\n",
              "      <td>134.4</td>\n",
              "    </tr>\n",
              "  </tbody>\n",
              "</table>\n",
              "</div>"
            ],
            "text/plain": [
              "                 match      run  hundrades  fivtey     sr\n",
              "rohit sharma    1025.0  12955.0       50.0    89.0  157.4\n",
              "virat kholi     1924.0  11955.0       89.0    10.0  197.4\n",
              "m.s dhoni       9025.0  10985.0      100.0    90.0  137.4\n",
              "shikhar dhawan  1065.0  12455.0       60.0    89.0  134.4"
            ]
          },
          "metadata": {
            "tags": []
          },
          "execution_count": 45
        }
      ]
    },
    {
      "cell_type": "code",
      "metadata": {
        "colab": {
          "base_uri": "https://localhost:8080/",
          "height": 204
        },
        "id": "zyl2jcgJ3iRO",
        "outputId": "944c7e05-5fcd-47d8-af6d-fa739fea4f74"
      },
      "source": [
        "c=pd.Series(betsman['m.s dhoni'])\n",
        "pd.DataFrame(c,columns=['m.s dhoni'])"
      ],
      "execution_count": 64,
      "outputs": [
        {
          "output_type": "execute_result",
          "data": {
            "text/html": [
              "<div>\n",
              "<style scoped>\n",
              "    .dataframe tbody tr th:only-of-type {\n",
              "        vertical-align: middle;\n",
              "    }\n",
              "\n",
              "    .dataframe tbody tr th {\n",
              "        vertical-align: top;\n",
              "    }\n",
              "\n",
              "    .dataframe thead th {\n",
              "        text-align: right;\n",
              "    }\n",
              "</style>\n",
              "<table border=\"1\" class=\"dataframe\">\n",
              "  <thead>\n",
              "    <tr style=\"text-align: right;\">\n",
              "      <th></th>\n",
              "      <th>m.s dhoni</th>\n",
              "    </tr>\n",
              "  </thead>\n",
              "  <tbody>\n",
              "    <tr>\n",
              "      <th>match</th>\n",
              "      <td>9025.0</td>\n",
              "    </tr>\n",
              "    <tr>\n",
              "      <th>run</th>\n",
              "      <td>10985.0</td>\n",
              "    </tr>\n",
              "    <tr>\n",
              "      <th>hundrades</th>\n",
              "      <td>100.0</td>\n",
              "    </tr>\n",
              "    <tr>\n",
              "      <th>fivtey</th>\n",
              "      <td>90.0</td>\n",
              "    </tr>\n",
              "    <tr>\n",
              "      <th>sr</th>\n",
              "      <td>137.4</td>\n",
              "    </tr>\n",
              "  </tbody>\n",
              "</table>\n",
              "</div>"
            ],
            "text/plain": [
              "           m.s dhoni\n",
              "match         9025.0\n",
              "run          10985.0\n",
              "hundrades      100.0\n",
              "fivtey          90.0\n",
              "sr             137.4"
            ]
          },
          "metadata": {
            "tags": []
          },
          "execution_count": 64
        }
      ]
    },
    {
      "cell_type": "code",
      "metadata": {
        "colab": {
          "base_uri": "https://localhost:8080/"
        },
        "id": "6opPRfRX38Rp",
        "outputId": "93c8d512-9f8e-46b5-fef6-b04e5803942b"
      },
      "source": [
        "bt=pd.Series(betsman)\n",
        "bt"
      ],
      "execution_count": 69,
      "outputs": [
        {
          "output_type": "execute_result",
          "data": {
            "text/plain": [
              "rohit sharma      {'match': 1025, 'run': 12955, 'hundrades': 50,...\n",
              "virat kholi       {'match': 1924, 'run': 11955, 'hundrades': 89,...\n",
              "m.s dhoni         {'match': 9025, 'run': 10985, 'hundrades': 100...\n",
              "shikhar dhawan    {'match': 1065, 'run': 12455, 'hundrades': 60,...\n",
              "dtype: object"
            ]
          },
          "metadata": {
            "tags": []
          },
          "execution_count": 69
        }
      ]
    },
    {
      "cell_type": "code",
      "metadata": {
        "colab": {
          "base_uri": "https://localhost:8080/"
        },
        "id": "YNOCHGGp79bm",
        "outputId": "9314d9a3-8ca1-4756-918a-748812aa18ab"
      },
      "source": [
        "bt.tail"
      ],
      "execution_count": 72,
      "outputs": [
        {
          "output_type": "execute_result",
          "data": {
            "text/plain": [
              "<bound method NDFrame.tail of rohit sharma      {'match': 1025, 'run': 12955, 'hundrades': 50,...\n",
              "virat kholi       {'match': 1924, 'run': 11955, 'hundrades': 89,...\n",
              "m.s dhoni         {'match': 9025, 'run': 10985, 'hundrades': 100...\n",
              "shikhar dhawan    {'match': 1065, 'run': 12455, 'hundrades': 60,...\n",
              "dtype: object>"
            ]
          },
          "metadata": {
            "tags": []
          },
          "execution_count": 72
        }
      ]
    },
    {
      "cell_type": "code",
      "metadata": {
        "colab": {
          "base_uri": "https://localhost:8080/"
        },
        "id": "6C3yEnez8aYa",
        "outputId": "f7a4a297-7c2d-4562-bef9-28aceb1057e6"
      },
      "source": [
        "bt.head(2)"
      ],
      "execution_count": 73,
      "outputs": [
        {
          "output_type": "execute_result",
          "data": {
            "text/plain": [
              "rohit sharma    {'match': 1025, 'run': 12955, 'hundrades': 50,...\n",
              "virat kholi     {'match': 1924, 'run': 11955, 'hundrades': 89,...\n",
              "dtype: object"
            ]
          },
          "metadata": {
            "tags": []
          },
          "execution_count": 73
        }
      ]
    },
    {
      "cell_type": "code",
      "metadata": {
        "colab": {
          "base_uri": "https://localhost:8080/"
        },
        "id": "kx6Y-jxA8v6A",
        "outputId": "5a324b8d-7c6d-4ff3-b76f-e5e93902e2b4"
      },
      "source": [
        "bt.iloc[0:2]"
      ],
      "execution_count": 76,
      "outputs": [
        {
          "output_type": "execute_result",
          "data": {
            "text/plain": [
              "rohit sharma    {'match': 1025, 'run': 12955, 'hundrades': 50,...\n",
              "virat kholi     {'match': 1924, 'run': 11955, 'hundrades': 89,...\n",
              "dtype: object"
            ]
          },
          "metadata": {
            "tags": []
          },
          "execution_count": 76
        }
      ]
    },
    {
      "cell_type": "code",
      "metadata": {
        "colab": {
          "base_uri": "https://localhost:8080/"
        },
        "id": "GbwRYwkd80sL",
        "outputId": "56ea7216-52f1-4104-b132-5ccc0430b7da"
      },
      "source": [
        "df.mean()"
      ],
      "execution_count": 78,
      "outputs": [
        {
          "output_type": "execute_result",
          "data": {
            "text/plain": [
              "match         3259.75\n",
              "run          12087.50\n",
              "hundrades       74.75\n",
              "fivtey          69.50\n",
              "sr             156.65\n",
              "dtype: float64"
            ]
          },
          "metadata": {
            "tags": []
          },
          "execution_count": 78
        }
      ]
    },
    {
      "cell_type": "code",
      "metadata": {
        "colab": {
          "base_uri": "https://localhost:8080/"
        },
        "id": "h8EQ1_Pk881F",
        "outputId": "6eb4e078-2e37-45c3-e5e8-371d4d1e36f4"
      },
      "source": [
        "df.var()"
      ],
      "execution_count": 79,
      "outputs": [
        {
          "output_type": "execute_result",
          "data": {
            "text/plain": [
              "match        1.494446e+07\n",
              "run          7.068917e+05\n",
              "hundrades    5.569167e+02\n",
              "fivtey       1.573667e+03\n",
              "sr           8.422500e+02\n",
              "dtype: float64"
            ]
          },
          "metadata": {
            "tags": []
          },
          "execution_count": 79
        }
      ]
    },
    {
      "cell_type": "code",
      "metadata": {
        "colab": {
          "base_uri": "https://localhost:8080/"
        },
        "id": "UG1NU1ti9FX0",
        "outputId": "cafe8f00-61e1-488b-fddb-aaa0f4635277"
      },
      "source": [
        "df.info"
      ],
      "execution_count": 80,
      "outputs": [
        {
          "output_type": "execute_result",
          "data": {
            "text/plain": [
              "<bound method DataFrame.info of                  match      run  hundrades  fivtey     sr\n",
              "rohit sharma    1025.0  12955.0       50.0    89.0  157.4\n",
              "virat kholi     1924.0  11955.0       89.0    10.0  197.4\n",
              "m.s dhoni       9025.0  10985.0      100.0    90.0  137.4\n",
              "shikhar dhawan  1065.0  12455.0       60.0    89.0  134.4>"
            ]
          },
          "metadata": {
            "tags": []
          },
          "execution_count": 80
        }
      ]
    },
    {
      "cell_type": "code",
      "metadata": {
        "colab": {
          "base_uri": "https://localhost:8080/"
        },
        "id": "YvUAILtb9Gal",
        "outputId": "0ed18b81-57ca-4cb5-86fc-4c7791d4195c"
      },
      "source": [
        "df.std"
      ],
      "execution_count": 81,
      "outputs": [
        {
          "output_type": "execute_result",
          "data": {
            "text/plain": [
              "<bound method DataFrame.std of                  match      run  hundrades  fivtey     sr\n",
              "rohit sharma    1025.0  12955.0       50.0    89.0  157.4\n",
              "virat kholi     1924.0  11955.0       89.0    10.0  197.4\n",
              "m.s dhoni       9025.0  10985.0      100.0    90.0  137.4\n",
              "shikhar dhawan  1065.0  12455.0       60.0    89.0  134.4>"
            ]
          },
          "metadata": {
            "tags": []
          },
          "execution_count": 81
        }
      ]
    },
    {
      "cell_type": "code",
      "metadata": {
        "colab": {
          "base_uri": "https://localhost:8080/"
        },
        "id": "mDbQX9nc9L_C",
        "outputId": "7e79c986-594f-4326-e283-214b0600300b"
      },
      "source": [
        "betsman['m.s dhoni']['run']=29479243\n",
        "betsman['m.s dhoni']"
      ],
      "execution_count": 85,
      "outputs": [
        {
          "output_type": "execute_result",
          "data": {
            "text/plain": [
              "{'fivtey': 90, 'hundrades': 100, 'match': 9025, 'run': 29479243, 'sr': 137.4}"
            ]
          },
          "metadata": {
            "tags": []
          },
          "execution_count": 85
        }
      ]
    },
    {
      "cell_type": "code",
      "metadata": {
        "id": "jSD-n2ez9T2o"
      },
      "source": [
        ""
      ],
      "execution_count": 89,
      "outputs": []
    },
    {
      "cell_type": "markdown",
      "metadata": {
        "id": "kMdDcm0R9xVu"
      },
      "source": [
        "**Reading and writing Data with Pandas**\n"
      ]
    },
    {
      "cell_type": "code",
      "metadata": {
        "colab": {
          "base_uri": "https://localhost:8080/",
          "height": 419
        },
        "id": "gej2a69G9j6M",
        "outputId": "06ef8e40-55de-422c-9e6e-7a60265988e6"
      },
      "source": [
        "data=pd.read_csv('/content/colorhexa_com.csv')\n",
        "data"
      ],
      "execution_count": 108,
      "outputs": [
        {
          "output_type": "execute_result",
          "data": {
            "text/html": [
              "<div>\n",
              "<style scoped>\n",
              "    .dataframe tbody tr th:only-of-type {\n",
              "        vertical-align: middle;\n",
              "    }\n",
              "\n",
              "    .dataframe tbody tr th {\n",
              "        vertical-align: top;\n",
              "    }\n",
              "\n",
              "    .dataframe thead th {\n",
              "        text-align: right;\n",
              "    }\n",
              "</style>\n",
              "<table border=\"1\" class=\"dataframe\">\n",
              "  <thead>\n",
              "    <tr style=\"text-align: right;\">\n",
              "      <th></th>\n",
              "      <th>Name</th>\n",
              "      <th>Hex (24 bit)</th>\n",
              "      <th>Red (8 bit)</th>\n",
              "      <th>Green (8 bit)</th>\n",
              "      <th>Blue (8 bit)</th>\n",
              "      <th>Hue (degrees)</th>\n",
              "      <th>HSL.S (%)</th>\n",
              "      <th>HSL.L (%)</th>\n",
              "    </tr>\n",
              "  </thead>\n",
              "  <tbody>\n",
              "    <tr>\n",
              "      <th>0</th>\n",
              "      <td>Air Force blue</td>\n",
              "      <td>#5d8aa8</td>\n",
              "      <td>93</td>\n",
              "      <td>138</td>\n",
              "      <td>168</td>\n",
              "      <td>204.0</td>\n",
              "      <td>30.1</td>\n",
              "      <td>51.2</td>\n",
              "    </tr>\n",
              "    <tr>\n",
              "      <th>1</th>\n",
              "      <td>Alice blue</td>\n",
              "      <td>#f0f8ff</td>\n",
              "      <td>240</td>\n",
              "      <td>248</td>\n",
              "      <td>255</td>\n",
              "      <td>208.0</td>\n",
              "      <td>100.0</td>\n",
              "      <td>97.1</td>\n",
              "    </tr>\n",
              "    <tr>\n",
              "      <th>2</th>\n",
              "      <td>Alizarin crimson</td>\n",
              "      <td>#e32636</td>\n",
              "      <td>227</td>\n",
              "      <td>38</td>\n",
              "      <td>54</td>\n",
              "      <td>354.9</td>\n",
              "      <td>77.1</td>\n",
              "      <td>52.0</td>\n",
              "    </tr>\n",
              "    <tr>\n",
              "      <th>3</th>\n",
              "      <td>Almond</td>\n",
              "      <td>#efdecd</td>\n",
              "      <td>239</td>\n",
              "      <td>222</td>\n",
              "      <td>205</td>\n",
              "      <td>30.0</td>\n",
              "      <td>51.5</td>\n",
              "      <td>87.1</td>\n",
              "    </tr>\n",
              "    <tr>\n",
              "      <th>4</th>\n",
              "      <td>Amaranth</td>\n",
              "      <td>#e52b50</td>\n",
              "      <td>229</td>\n",
              "      <td>43</td>\n",
              "      <td>80</td>\n",
              "      <td>348.1</td>\n",
              "      <td>78.2</td>\n",
              "      <td>53.3</td>\n",
              "    </tr>\n",
              "    <tr>\n",
              "      <th>...</th>\n",
              "      <td>...</td>\n",
              "      <td>...</td>\n",
              "      <td>...</td>\n",
              "      <td>...</td>\n",
              "      <td>...</td>\n",
              "      <td>...</td>\n",
              "      <td>...</td>\n",
              "      <td>...</td>\n",
              "    </tr>\n",
              "    <tr>\n",
              "      <th>741</th>\n",
              "      <td>Yellow</td>\n",
              "      <td>#ffff00</td>\n",
              "      <td>255</td>\n",
              "      <td>255</td>\n",
              "      <td>0</td>\n",
              "      <td>60.0</td>\n",
              "      <td>100.0</td>\n",
              "      <td>50.0</td>\n",
              "    </tr>\n",
              "    <tr>\n",
              "      <th>742</th>\n",
              "      <td>Yellow Orange</td>\n",
              "      <td>#ffae42</td>\n",
              "      <td>255</td>\n",
              "      <td>174</td>\n",
              "      <td>66</td>\n",
              "      <td>34.3</td>\n",
              "      <td>100.0</td>\n",
              "      <td>62.9</td>\n",
              "    </tr>\n",
              "    <tr>\n",
              "      <th>743</th>\n",
              "      <td>Yellow green</td>\n",
              "      <td>#9acd32</td>\n",
              "      <td>154</td>\n",
              "      <td>205</td>\n",
              "      <td>50</td>\n",
              "      <td>79.7</td>\n",
              "      <td>60.8</td>\n",
              "      <td>50.0</td>\n",
              "    </tr>\n",
              "    <tr>\n",
              "      <th>744</th>\n",
              "      <td>Zaffre</td>\n",
              "      <td>#0014a8</td>\n",
              "      <td>0</td>\n",
              "      <td>20</td>\n",
              "      <td>168</td>\n",
              "      <td>232.9</td>\n",
              "      <td>100.0</td>\n",
              "      <td>32.9</td>\n",
              "    </tr>\n",
              "    <tr>\n",
              "      <th>745</th>\n",
              "      <td>Zinnwaldite brown</td>\n",
              "      <td>#2c1608</td>\n",
              "      <td>44</td>\n",
              "      <td>22</td>\n",
              "      <td>8</td>\n",
              "      <td>23.3</td>\n",
              "      <td>69.2</td>\n",
              "      <td>10.2</td>\n",
              "    </tr>\n",
              "  </tbody>\n",
              "</table>\n",
              "<p>746 rows × 8 columns</p>\n",
              "</div>"
            ],
            "text/plain": [
              "                  Name Hex (24 bit)  ...  HSL.S (%)  HSL.L (%)\n",
              "0       Air Force blue      #5d8aa8  ...       30.1       51.2\n",
              "1           Alice blue      #f0f8ff  ...      100.0       97.1\n",
              "2     Alizarin crimson      #e32636  ...       77.1       52.0\n",
              "3               Almond      #efdecd  ...       51.5       87.1\n",
              "4             Amaranth      #e52b50  ...       78.2       53.3\n",
              "..                 ...          ...  ...        ...        ...\n",
              "741             Yellow      #ffff00  ...      100.0       50.0\n",
              "742      Yellow Orange      #ffae42  ...      100.0       62.9\n",
              "743       Yellow green      #9acd32  ...       60.8       50.0\n",
              "744             Zaffre      #0014a8  ...      100.0       32.9\n",
              "745  Zinnwaldite brown      #2c1608  ...       69.2       10.2\n",
              "\n",
              "[746 rows x 8 columns]"
            ]
          },
          "metadata": {
            "tags": []
          },
          "execution_count": 108
        }
      ]
    },
    {
      "cell_type": "code",
      "metadata": {
        "id": "uBjJa-o4_e3f"
      },
      "source": [
        "pd=pd.read_csv('/content/colorhexa_com.csv',header=0,names=['NAME','HEX(24 bit)','RED(8 bit)','GREEN(8 bit)','BLUE(8 bit)','HUE(degrees)','HSL.S(%)','HSL.L(%)'])"
      ],
      "execution_count": 109,
      "outputs": []
    },
    {
      "cell_type": "code",
      "metadata": {
        "colab": {
          "base_uri": "https://localhost:8080/",
          "height": 419
        },
        "id": "fDmPCVnCAM3E",
        "outputId": "18234910-a277-4681-9654-65d23d621f82"
      },
      "source": [
        "pd"
      ],
      "execution_count": 110,
      "outputs": [
        {
          "output_type": "execute_result",
          "data": {
            "text/html": [
              "<div>\n",
              "<style scoped>\n",
              "    .dataframe tbody tr th:only-of-type {\n",
              "        vertical-align: middle;\n",
              "    }\n",
              "\n",
              "    .dataframe tbody tr th {\n",
              "        vertical-align: top;\n",
              "    }\n",
              "\n",
              "    .dataframe thead th {\n",
              "        text-align: right;\n",
              "    }\n",
              "</style>\n",
              "<table border=\"1\" class=\"dataframe\">\n",
              "  <thead>\n",
              "    <tr style=\"text-align: right;\">\n",
              "      <th></th>\n",
              "      <th>NAME</th>\n",
              "      <th>HEX(24 bit)</th>\n",
              "      <th>RED(8 bit)</th>\n",
              "      <th>GREEN(8 bit)</th>\n",
              "      <th>BLUE(8 bit)</th>\n",
              "      <th>HUE(degrees)</th>\n",
              "      <th>HSL.S(%)</th>\n",
              "      <th>HSL.L(%)</th>\n",
              "    </tr>\n",
              "  </thead>\n",
              "  <tbody>\n",
              "    <tr>\n",
              "      <th>0</th>\n",
              "      <td>Air Force blue</td>\n",
              "      <td>#5d8aa8</td>\n",
              "      <td>93</td>\n",
              "      <td>138</td>\n",
              "      <td>168</td>\n",
              "      <td>204.0</td>\n",
              "      <td>30.1</td>\n",
              "      <td>51.2</td>\n",
              "    </tr>\n",
              "    <tr>\n",
              "      <th>1</th>\n",
              "      <td>Alice blue</td>\n",
              "      <td>#f0f8ff</td>\n",
              "      <td>240</td>\n",
              "      <td>248</td>\n",
              "      <td>255</td>\n",
              "      <td>208.0</td>\n",
              "      <td>100.0</td>\n",
              "      <td>97.1</td>\n",
              "    </tr>\n",
              "    <tr>\n",
              "      <th>2</th>\n",
              "      <td>Alizarin crimson</td>\n",
              "      <td>#e32636</td>\n",
              "      <td>227</td>\n",
              "      <td>38</td>\n",
              "      <td>54</td>\n",
              "      <td>354.9</td>\n",
              "      <td>77.1</td>\n",
              "      <td>52.0</td>\n",
              "    </tr>\n",
              "    <tr>\n",
              "      <th>3</th>\n",
              "      <td>Almond</td>\n",
              "      <td>#efdecd</td>\n",
              "      <td>239</td>\n",
              "      <td>222</td>\n",
              "      <td>205</td>\n",
              "      <td>30.0</td>\n",
              "      <td>51.5</td>\n",
              "      <td>87.1</td>\n",
              "    </tr>\n",
              "    <tr>\n",
              "      <th>4</th>\n",
              "      <td>Amaranth</td>\n",
              "      <td>#e52b50</td>\n",
              "      <td>229</td>\n",
              "      <td>43</td>\n",
              "      <td>80</td>\n",
              "      <td>348.1</td>\n",
              "      <td>78.2</td>\n",
              "      <td>53.3</td>\n",
              "    </tr>\n",
              "    <tr>\n",
              "      <th>...</th>\n",
              "      <td>...</td>\n",
              "      <td>...</td>\n",
              "      <td>...</td>\n",
              "      <td>...</td>\n",
              "      <td>...</td>\n",
              "      <td>...</td>\n",
              "      <td>...</td>\n",
              "      <td>...</td>\n",
              "    </tr>\n",
              "    <tr>\n",
              "      <th>741</th>\n",
              "      <td>Yellow</td>\n",
              "      <td>#ffff00</td>\n",
              "      <td>255</td>\n",
              "      <td>255</td>\n",
              "      <td>0</td>\n",
              "      <td>60.0</td>\n",
              "      <td>100.0</td>\n",
              "      <td>50.0</td>\n",
              "    </tr>\n",
              "    <tr>\n",
              "      <th>742</th>\n",
              "      <td>Yellow Orange</td>\n",
              "      <td>#ffae42</td>\n",
              "      <td>255</td>\n",
              "      <td>174</td>\n",
              "      <td>66</td>\n",
              "      <td>34.3</td>\n",
              "      <td>100.0</td>\n",
              "      <td>62.9</td>\n",
              "    </tr>\n",
              "    <tr>\n",
              "      <th>743</th>\n",
              "      <td>Yellow green</td>\n",
              "      <td>#9acd32</td>\n",
              "      <td>154</td>\n",
              "      <td>205</td>\n",
              "      <td>50</td>\n",
              "      <td>79.7</td>\n",
              "      <td>60.8</td>\n",
              "      <td>50.0</td>\n",
              "    </tr>\n",
              "    <tr>\n",
              "      <th>744</th>\n",
              "      <td>Zaffre</td>\n",
              "      <td>#0014a8</td>\n",
              "      <td>0</td>\n",
              "      <td>20</td>\n",
              "      <td>168</td>\n",
              "      <td>232.9</td>\n",
              "      <td>100.0</td>\n",
              "      <td>32.9</td>\n",
              "    </tr>\n",
              "    <tr>\n",
              "      <th>745</th>\n",
              "      <td>Zinnwaldite brown</td>\n",
              "      <td>#2c1608</td>\n",
              "      <td>44</td>\n",
              "      <td>22</td>\n",
              "      <td>8</td>\n",
              "      <td>23.3</td>\n",
              "      <td>69.2</td>\n",
              "      <td>10.2</td>\n",
              "    </tr>\n",
              "  </tbody>\n",
              "</table>\n",
              "<p>746 rows × 8 columns</p>\n",
              "</div>"
            ],
            "text/plain": [
              "                  NAME HEX(24 bit)  ...  HSL.S(%)  HSL.L(%)\n",
              "0       Air Force blue     #5d8aa8  ...      30.1      51.2\n",
              "1           Alice blue     #f0f8ff  ...     100.0      97.1\n",
              "2     Alizarin crimson     #e32636  ...      77.1      52.0\n",
              "3               Almond     #efdecd  ...      51.5      87.1\n",
              "4             Amaranth     #e52b50  ...      78.2      53.3\n",
              "..                 ...         ...  ...       ...       ...\n",
              "741             Yellow     #ffff00  ...     100.0      50.0\n",
              "742      Yellow Orange     #ffae42  ...     100.0      62.9\n",
              "743       Yellow green     #9acd32  ...      60.8      50.0\n",
              "744             Zaffre     #0014a8  ...     100.0      32.9\n",
              "745  Zinnwaldite brown     #2c1608  ...      69.2      10.2\n",
              "\n",
              "[746 rows x 8 columns]"
            ]
          },
          "metadata": {
            "tags": []
          },
          "execution_count": 110
        }
      ]
    },
    {
      "cell_type": "markdown",
      "metadata": {
        "id": "4KQYw0CRCeNI"
      },
      "source": [
        "**Delete the columns**"
      ]
    },
    {
      "cell_type": "code",
      "metadata": {
        "id": "WWbOZeIfBDB5"
      },
      "source": [
        "del pd['HSL.L(%)']\n"
      ],
      "execution_count": 112,
      "outputs": []
    },
    {
      "cell_type": "code",
      "metadata": {
        "colab": {
          "base_uri": "https://localhost:8080/",
          "height": 419
        },
        "id": "j1kKmvzVB7Z4",
        "outputId": "eda16d48-c3d6-4e8f-d3c5-8e38f20498ca"
      },
      "source": [
        "pd"
      ],
      "execution_count": 113,
      "outputs": [
        {
          "output_type": "execute_result",
          "data": {
            "text/html": [
              "<div>\n",
              "<style scoped>\n",
              "    .dataframe tbody tr th:only-of-type {\n",
              "        vertical-align: middle;\n",
              "    }\n",
              "\n",
              "    .dataframe tbody tr th {\n",
              "        vertical-align: top;\n",
              "    }\n",
              "\n",
              "    .dataframe thead th {\n",
              "        text-align: right;\n",
              "    }\n",
              "</style>\n",
              "<table border=\"1\" class=\"dataframe\">\n",
              "  <thead>\n",
              "    <tr style=\"text-align: right;\">\n",
              "      <th></th>\n",
              "      <th>NAME</th>\n",
              "      <th>HEX(24 bit)</th>\n",
              "      <th>RED(8 bit)</th>\n",
              "      <th>GREEN(8 bit)</th>\n",
              "      <th>BLUE(8 bit)</th>\n",
              "      <th>HUE(degrees)</th>\n",
              "      <th>HSL.S(%)</th>\n",
              "    </tr>\n",
              "  </thead>\n",
              "  <tbody>\n",
              "    <tr>\n",
              "      <th>0</th>\n",
              "      <td>Air Force blue</td>\n",
              "      <td>#5d8aa8</td>\n",
              "      <td>93</td>\n",
              "      <td>138</td>\n",
              "      <td>168</td>\n",
              "      <td>204.0</td>\n",
              "      <td>30.1</td>\n",
              "    </tr>\n",
              "    <tr>\n",
              "      <th>1</th>\n",
              "      <td>Alice blue</td>\n",
              "      <td>#f0f8ff</td>\n",
              "      <td>240</td>\n",
              "      <td>248</td>\n",
              "      <td>255</td>\n",
              "      <td>208.0</td>\n",
              "      <td>100.0</td>\n",
              "    </tr>\n",
              "    <tr>\n",
              "      <th>2</th>\n",
              "      <td>Alizarin crimson</td>\n",
              "      <td>#e32636</td>\n",
              "      <td>227</td>\n",
              "      <td>38</td>\n",
              "      <td>54</td>\n",
              "      <td>354.9</td>\n",
              "      <td>77.1</td>\n",
              "    </tr>\n",
              "    <tr>\n",
              "      <th>3</th>\n",
              "      <td>Almond</td>\n",
              "      <td>#efdecd</td>\n",
              "      <td>239</td>\n",
              "      <td>222</td>\n",
              "      <td>205</td>\n",
              "      <td>30.0</td>\n",
              "      <td>51.5</td>\n",
              "    </tr>\n",
              "    <tr>\n",
              "      <th>4</th>\n",
              "      <td>Amaranth</td>\n",
              "      <td>#e52b50</td>\n",
              "      <td>229</td>\n",
              "      <td>43</td>\n",
              "      <td>80</td>\n",
              "      <td>348.1</td>\n",
              "      <td>78.2</td>\n",
              "    </tr>\n",
              "    <tr>\n",
              "      <th>...</th>\n",
              "      <td>...</td>\n",
              "      <td>...</td>\n",
              "      <td>...</td>\n",
              "      <td>...</td>\n",
              "      <td>...</td>\n",
              "      <td>...</td>\n",
              "      <td>...</td>\n",
              "    </tr>\n",
              "    <tr>\n",
              "      <th>741</th>\n",
              "      <td>Yellow</td>\n",
              "      <td>#ffff00</td>\n",
              "      <td>255</td>\n",
              "      <td>255</td>\n",
              "      <td>0</td>\n",
              "      <td>60.0</td>\n",
              "      <td>100.0</td>\n",
              "    </tr>\n",
              "    <tr>\n",
              "      <th>742</th>\n",
              "      <td>Yellow Orange</td>\n",
              "      <td>#ffae42</td>\n",
              "      <td>255</td>\n",
              "      <td>174</td>\n",
              "      <td>66</td>\n",
              "      <td>34.3</td>\n",
              "      <td>100.0</td>\n",
              "    </tr>\n",
              "    <tr>\n",
              "      <th>743</th>\n",
              "      <td>Yellow green</td>\n",
              "      <td>#9acd32</td>\n",
              "      <td>154</td>\n",
              "      <td>205</td>\n",
              "      <td>50</td>\n",
              "      <td>79.7</td>\n",
              "      <td>60.8</td>\n",
              "    </tr>\n",
              "    <tr>\n",
              "      <th>744</th>\n",
              "      <td>Zaffre</td>\n",
              "      <td>#0014a8</td>\n",
              "      <td>0</td>\n",
              "      <td>20</td>\n",
              "      <td>168</td>\n",
              "      <td>232.9</td>\n",
              "      <td>100.0</td>\n",
              "    </tr>\n",
              "    <tr>\n",
              "      <th>745</th>\n",
              "      <td>Zinnwaldite brown</td>\n",
              "      <td>#2c1608</td>\n",
              "      <td>44</td>\n",
              "      <td>22</td>\n",
              "      <td>8</td>\n",
              "      <td>23.3</td>\n",
              "      <td>69.2</td>\n",
              "    </tr>\n",
              "  </tbody>\n",
              "</table>\n",
              "<p>746 rows × 7 columns</p>\n",
              "</div>"
            ],
            "text/plain": [
              "                  NAME HEX(24 bit)  ...  HUE(degrees)  HSL.S(%)\n",
              "0       Air Force blue     #5d8aa8  ...         204.0      30.1\n",
              "1           Alice blue     #f0f8ff  ...         208.0     100.0\n",
              "2     Alizarin crimson     #e32636  ...         354.9      77.1\n",
              "3               Almond     #efdecd  ...          30.0      51.5\n",
              "4             Amaranth     #e52b50  ...         348.1      78.2\n",
              "..                 ...         ...  ...           ...       ...\n",
              "741             Yellow     #ffff00  ...          60.0     100.0\n",
              "742      Yellow Orange     #ffae42  ...          34.3     100.0\n",
              "743       Yellow green     #9acd32  ...          79.7      60.8\n",
              "744             Zaffre     #0014a8  ...         232.9     100.0\n",
              "745  Zinnwaldite brown     #2c1608  ...          23.3      69.2\n",
              "\n",
              "[746 rows x 7 columns]"
            ]
          },
          "metadata": {
            "tags": []
          },
          "execution_count": 113
        }
      ]
    },
    {
      "cell_type": "markdown",
      "metadata": {
        "id": "6FFKTPDyDZXu"
      },
      "source": [
        "**Write a data **"
      ]
    },
    {
      "cell_type": "code",
      "metadata": {
        "id": "2zAEnfTMCaz5"
      },
      "source": [
        "pd.to_csv('pd.csv')"
      ],
      "execution_count": 114,
      "outputs": []
    },
    {
      "cell_type": "markdown",
      "metadata": {
        "id": "-PyKQnzHDyf-"
      },
      "source": [
        "**Indexing and slicing data frames**"
      ]
    },
    {
      "cell_type": "code",
      "metadata": {
        "id": "B4N5kNduDo8Y"
      },
      "source": [
        "import pandas as pd"
      ],
      "execution_count": 116,
      "outputs": []
    },
    {
      "cell_type": "code",
      "metadata": {
        "colab": {
          "base_uri": "https://localhost:8080/",
          "height": 1000
        },
        "id": "Zr82-VcREITd",
        "outputId": "ffd7e93c-853a-4287-8c1a-3b8c521629d4"
      },
      "source": [
        "pre=pd.read_csv('/content/president_heights.csv')\n",
        "pre"
      ],
      "execution_count": 119,
      "outputs": [
        {
          "output_type": "execute_result",
          "data": {
            "text/html": [
              "<div>\n",
              "<style scoped>\n",
              "    .dataframe tbody tr th:only-of-type {\n",
              "        vertical-align: middle;\n",
              "    }\n",
              "\n",
              "    .dataframe tbody tr th {\n",
              "        vertical-align: top;\n",
              "    }\n",
              "\n",
              "    .dataframe thead th {\n",
              "        text-align: right;\n",
              "    }\n",
              "</style>\n",
              "<table border=\"1\" class=\"dataframe\">\n",
              "  <thead>\n",
              "    <tr style=\"text-align: right;\">\n",
              "      <th></th>\n",
              "      <th>order</th>\n",
              "      <th>name</th>\n",
              "      <th>height(cm)</th>\n",
              "    </tr>\n",
              "  </thead>\n",
              "  <tbody>\n",
              "    <tr>\n",
              "      <th>0</th>\n",
              "      <td>1</td>\n",
              "      <td>George Washington</td>\n",
              "      <td>189</td>\n",
              "    </tr>\n",
              "    <tr>\n",
              "      <th>1</th>\n",
              "      <td>2</td>\n",
              "      <td>John Adams</td>\n",
              "      <td>170</td>\n",
              "    </tr>\n",
              "    <tr>\n",
              "      <th>2</th>\n",
              "      <td>3</td>\n",
              "      <td>Thomas Jefferson</td>\n",
              "      <td>189</td>\n",
              "    </tr>\n",
              "    <tr>\n",
              "      <th>3</th>\n",
              "      <td>4</td>\n",
              "      <td>James Madison</td>\n",
              "      <td>163</td>\n",
              "    </tr>\n",
              "    <tr>\n",
              "      <th>4</th>\n",
              "      <td>5</td>\n",
              "      <td>James Monroe</td>\n",
              "      <td>183</td>\n",
              "    </tr>\n",
              "    <tr>\n",
              "      <th>5</th>\n",
              "      <td>6</td>\n",
              "      <td>John Quincy Adams</td>\n",
              "      <td>171</td>\n",
              "    </tr>\n",
              "    <tr>\n",
              "      <th>6</th>\n",
              "      <td>7</td>\n",
              "      <td>Andrew Jackson</td>\n",
              "      <td>185</td>\n",
              "    </tr>\n",
              "    <tr>\n",
              "      <th>7</th>\n",
              "      <td>8</td>\n",
              "      <td>Martin Van Buren</td>\n",
              "      <td>168</td>\n",
              "    </tr>\n",
              "    <tr>\n",
              "      <th>8</th>\n",
              "      <td>9</td>\n",
              "      <td>William Henry Harrison</td>\n",
              "      <td>173</td>\n",
              "    </tr>\n",
              "    <tr>\n",
              "      <th>9</th>\n",
              "      <td>10</td>\n",
              "      <td>John Tyler</td>\n",
              "      <td>183</td>\n",
              "    </tr>\n",
              "    <tr>\n",
              "      <th>10</th>\n",
              "      <td>11</td>\n",
              "      <td>James K. Polk</td>\n",
              "      <td>173</td>\n",
              "    </tr>\n",
              "    <tr>\n",
              "      <th>11</th>\n",
              "      <td>12</td>\n",
              "      <td>Zachary Taylor</td>\n",
              "      <td>173</td>\n",
              "    </tr>\n",
              "    <tr>\n",
              "      <th>12</th>\n",
              "      <td>13</td>\n",
              "      <td>Millard Fillmore</td>\n",
              "      <td>175</td>\n",
              "    </tr>\n",
              "    <tr>\n",
              "      <th>13</th>\n",
              "      <td>14</td>\n",
              "      <td>Franklin Pierce</td>\n",
              "      <td>178</td>\n",
              "    </tr>\n",
              "    <tr>\n",
              "      <th>14</th>\n",
              "      <td>15</td>\n",
              "      <td>James Buchanan</td>\n",
              "      <td>183</td>\n",
              "    </tr>\n",
              "    <tr>\n",
              "      <th>15</th>\n",
              "      <td>16</td>\n",
              "      <td>Abraham Lincoln</td>\n",
              "      <td>193</td>\n",
              "    </tr>\n",
              "    <tr>\n",
              "      <th>16</th>\n",
              "      <td>17</td>\n",
              "      <td>Andrew Johnson</td>\n",
              "      <td>178</td>\n",
              "    </tr>\n",
              "    <tr>\n",
              "      <th>17</th>\n",
              "      <td>18</td>\n",
              "      <td>Ulysses S. Grant</td>\n",
              "      <td>173</td>\n",
              "    </tr>\n",
              "    <tr>\n",
              "      <th>18</th>\n",
              "      <td>19</td>\n",
              "      <td>Rutherford B. Hayes</td>\n",
              "      <td>174</td>\n",
              "    </tr>\n",
              "    <tr>\n",
              "      <th>19</th>\n",
              "      <td>20</td>\n",
              "      <td>James A. Garfield</td>\n",
              "      <td>183</td>\n",
              "    </tr>\n",
              "    <tr>\n",
              "      <th>20</th>\n",
              "      <td>21</td>\n",
              "      <td>Chester A. Arthur</td>\n",
              "      <td>183</td>\n",
              "    </tr>\n",
              "    <tr>\n",
              "      <th>21</th>\n",
              "      <td>23</td>\n",
              "      <td>Benjamin Harrison</td>\n",
              "      <td>168</td>\n",
              "    </tr>\n",
              "    <tr>\n",
              "      <th>22</th>\n",
              "      <td>25</td>\n",
              "      <td>William McKinley</td>\n",
              "      <td>170</td>\n",
              "    </tr>\n",
              "    <tr>\n",
              "      <th>23</th>\n",
              "      <td>26</td>\n",
              "      <td>Theodore Roosevelt</td>\n",
              "      <td>178</td>\n",
              "    </tr>\n",
              "    <tr>\n",
              "      <th>24</th>\n",
              "      <td>27</td>\n",
              "      <td>William Howard Taft</td>\n",
              "      <td>182</td>\n",
              "    </tr>\n",
              "    <tr>\n",
              "      <th>25</th>\n",
              "      <td>28</td>\n",
              "      <td>Woodrow Wilson</td>\n",
              "      <td>180</td>\n",
              "    </tr>\n",
              "    <tr>\n",
              "      <th>26</th>\n",
              "      <td>29</td>\n",
              "      <td>Warren G. Harding</td>\n",
              "      <td>183</td>\n",
              "    </tr>\n",
              "    <tr>\n",
              "      <th>27</th>\n",
              "      <td>30</td>\n",
              "      <td>Calvin Coolidge</td>\n",
              "      <td>178</td>\n",
              "    </tr>\n",
              "    <tr>\n",
              "      <th>28</th>\n",
              "      <td>31</td>\n",
              "      <td>Herbert Hoover</td>\n",
              "      <td>182</td>\n",
              "    </tr>\n",
              "    <tr>\n",
              "      <th>29</th>\n",
              "      <td>32</td>\n",
              "      <td>Franklin D. Roosevelt</td>\n",
              "      <td>188</td>\n",
              "    </tr>\n",
              "    <tr>\n",
              "      <th>30</th>\n",
              "      <td>33</td>\n",
              "      <td>Harry S. Truman</td>\n",
              "      <td>175</td>\n",
              "    </tr>\n",
              "    <tr>\n",
              "      <th>31</th>\n",
              "      <td>34</td>\n",
              "      <td>Dwight D. Eisenhower</td>\n",
              "      <td>179</td>\n",
              "    </tr>\n",
              "    <tr>\n",
              "      <th>32</th>\n",
              "      <td>35</td>\n",
              "      <td>John F. Kennedy</td>\n",
              "      <td>183</td>\n",
              "    </tr>\n",
              "    <tr>\n",
              "      <th>33</th>\n",
              "      <td>36</td>\n",
              "      <td>Lyndon B. Johnson</td>\n",
              "      <td>193</td>\n",
              "    </tr>\n",
              "    <tr>\n",
              "      <th>34</th>\n",
              "      <td>37</td>\n",
              "      <td>Richard Nixon</td>\n",
              "      <td>182</td>\n",
              "    </tr>\n",
              "    <tr>\n",
              "      <th>35</th>\n",
              "      <td>38</td>\n",
              "      <td>Gerald Ford</td>\n",
              "      <td>183</td>\n",
              "    </tr>\n",
              "    <tr>\n",
              "      <th>36</th>\n",
              "      <td>39</td>\n",
              "      <td>Jimmy Carter</td>\n",
              "      <td>177</td>\n",
              "    </tr>\n",
              "    <tr>\n",
              "      <th>37</th>\n",
              "      <td>40</td>\n",
              "      <td>Ronald Reagan</td>\n",
              "      <td>185</td>\n",
              "    </tr>\n",
              "    <tr>\n",
              "      <th>38</th>\n",
              "      <td>41</td>\n",
              "      <td>George H. W. Bush</td>\n",
              "      <td>188</td>\n",
              "    </tr>\n",
              "    <tr>\n",
              "      <th>39</th>\n",
              "      <td>42</td>\n",
              "      <td>Bill Clinton</td>\n",
              "      <td>188</td>\n",
              "    </tr>\n",
              "    <tr>\n",
              "      <th>40</th>\n",
              "      <td>43</td>\n",
              "      <td>George W. Bush</td>\n",
              "      <td>182</td>\n",
              "    </tr>\n",
              "    <tr>\n",
              "      <th>41</th>\n",
              "      <td>44</td>\n",
              "      <td>Barack Obama</td>\n",
              "      <td>185</td>\n",
              "    </tr>\n",
              "  </tbody>\n",
              "</table>\n",
              "</div>"
            ],
            "text/plain": [
              "    order                    name  height(cm)\n",
              "0       1       George Washington         189\n",
              "1       2              John Adams         170\n",
              "2       3        Thomas Jefferson         189\n",
              "3       4           James Madison         163\n",
              "4       5            James Monroe         183\n",
              "5       6       John Quincy Adams         171\n",
              "6       7          Andrew Jackson         185\n",
              "7       8        Martin Van Buren         168\n",
              "8       9  William Henry Harrison         173\n",
              "9      10              John Tyler         183\n",
              "10     11           James K. Polk         173\n",
              "11     12          Zachary Taylor         173\n",
              "12     13        Millard Fillmore         175\n",
              "13     14         Franklin Pierce         178\n",
              "14     15          James Buchanan         183\n",
              "15     16         Abraham Lincoln         193\n",
              "16     17          Andrew Johnson         178\n",
              "17     18        Ulysses S. Grant         173\n",
              "18     19     Rutherford B. Hayes         174\n",
              "19     20       James A. Garfield         183\n",
              "20     21       Chester A. Arthur         183\n",
              "21     23       Benjamin Harrison         168\n",
              "22     25        William McKinley         170\n",
              "23     26      Theodore Roosevelt         178\n",
              "24     27     William Howard Taft         182\n",
              "25     28          Woodrow Wilson         180\n",
              "26     29       Warren G. Harding         183\n",
              "27     30         Calvin Coolidge         178\n",
              "28     31          Herbert Hoover         182\n",
              "29     32   Franklin D. Roosevelt         188\n",
              "30     33         Harry S. Truman         175\n",
              "31     34    Dwight D. Eisenhower         179\n",
              "32     35         John F. Kennedy         183\n",
              "33     36       Lyndon B. Johnson         193\n",
              "34     37           Richard Nixon         182\n",
              "35     38             Gerald Ford         183\n",
              "36     39            Jimmy Carter         177\n",
              "37     40           Ronald Reagan         185\n",
              "38     41       George H. W. Bush         188\n",
              "39     42            Bill Clinton         188\n",
              "40     43          George W. Bush         182\n",
              "41     44            Barack Obama         185"
            ]
          },
          "metadata": {
            "tags": []
          },
          "execution_count": 119
        }
      ]
    },
    {
      "cell_type": "code",
      "metadata": {
        "colab": {
          "base_uri": "https://localhost:8080/",
          "height": 196
        },
        "id": "c9yzUGlHEUdA",
        "outputId": "73424327-3562-45a4-a5d8-dfbd1d96cce7"
      },
      "source": [
        "pd.DataFrame(pre).T"
      ],
      "execution_count": 120,
      "outputs": [
        {
          "output_type": "execute_result",
          "data": {
            "text/html": [
              "<div>\n",
              "<style scoped>\n",
              "    .dataframe tbody tr th:only-of-type {\n",
              "        vertical-align: middle;\n",
              "    }\n",
              "\n",
              "    .dataframe tbody tr th {\n",
              "        vertical-align: top;\n",
              "    }\n",
              "\n",
              "    .dataframe thead th {\n",
              "        text-align: right;\n",
              "    }\n",
              "</style>\n",
              "<table border=\"1\" class=\"dataframe\">\n",
              "  <thead>\n",
              "    <tr style=\"text-align: right;\">\n",
              "      <th></th>\n",
              "      <th>0</th>\n",
              "      <th>1</th>\n",
              "      <th>2</th>\n",
              "      <th>3</th>\n",
              "      <th>4</th>\n",
              "      <th>5</th>\n",
              "      <th>6</th>\n",
              "      <th>7</th>\n",
              "      <th>8</th>\n",
              "      <th>9</th>\n",
              "      <th>10</th>\n",
              "      <th>11</th>\n",
              "      <th>12</th>\n",
              "      <th>13</th>\n",
              "      <th>14</th>\n",
              "      <th>15</th>\n",
              "      <th>16</th>\n",
              "      <th>17</th>\n",
              "      <th>18</th>\n",
              "      <th>19</th>\n",
              "      <th>20</th>\n",
              "      <th>21</th>\n",
              "      <th>22</th>\n",
              "      <th>23</th>\n",
              "      <th>24</th>\n",
              "      <th>25</th>\n",
              "      <th>26</th>\n",
              "      <th>27</th>\n",
              "      <th>28</th>\n",
              "      <th>29</th>\n",
              "      <th>30</th>\n",
              "      <th>31</th>\n",
              "      <th>32</th>\n",
              "      <th>33</th>\n",
              "      <th>34</th>\n",
              "      <th>35</th>\n",
              "      <th>36</th>\n",
              "      <th>37</th>\n",
              "      <th>38</th>\n",
              "      <th>39</th>\n",
              "      <th>40</th>\n",
              "      <th>41</th>\n",
              "    </tr>\n",
              "  </thead>\n",
              "  <tbody>\n",
              "    <tr>\n",
              "      <th>order</th>\n",
              "      <td>1</td>\n",
              "      <td>2</td>\n",
              "      <td>3</td>\n",
              "      <td>4</td>\n",
              "      <td>5</td>\n",
              "      <td>6</td>\n",
              "      <td>7</td>\n",
              "      <td>8</td>\n",
              "      <td>9</td>\n",
              "      <td>10</td>\n",
              "      <td>11</td>\n",
              "      <td>12</td>\n",
              "      <td>13</td>\n",
              "      <td>14</td>\n",
              "      <td>15</td>\n",
              "      <td>16</td>\n",
              "      <td>17</td>\n",
              "      <td>18</td>\n",
              "      <td>19</td>\n",
              "      <td>20</td>\n",
              "      <td>21</td>\n",
              "      <td>23</td>\n",
              "      <td>25</td>\n",
              "      <td>26</td>\n",
              "      <td>27</td>\n",
              "      <td>28</td>\n",
              "      <td>29</td>\n",
              "      <td>30</td>\n",
              "      <td>31</td>\n",
              "      <td>32</td>\n",
              "      <td>33</td>\n",
              "      <td>34</td>\n",
              "      <td>35</td>\n",
              "      <td>36</td>\n",
              "      <td>37</td>\n",
              "      <td>38</td>\n",
              "      <td>39</td>\n",
              "      <td>40</td>\n",
              "      <td>41</td>\n",
              "      <td>42</td>\n",
              "      <td>43</td>\n",
              "      <td>44</td>\n",
              "    </tr>\n",
              "    <tr>\n",
              "      <th>name</th>\n",
              "      <td>George Washington</td>\n",
              "      <td>John Adams</td>\n",
              "      <td>Thomas Jefferson</td>\n",
              "      <td>James Madison</td>\n",
              "      <td>James Monroe</td>\n",
              "      <td>John Quincy Adams</td>\n",
              "      <td>Andrew Jackson</td>\n",
              "      <td>Martin Van Buren</td>\n",
              "      <td>William Henry Harrison</td>\n",
              "      <td>John Tyler</td>\n",
              "      <td>James K. Polk</td>\n",
              "      <td>Zachary Taylor</td>\n",
              "      <td>Millard Fillmore</td>\n",
              "      <td>Franklin Pierce</td>\n",
              "      <td>James Buchanan</td>\n",
              "      <td>Abraham Lincoln</td>\n",
              "      <td>Andrew Johnson</td>\n",
              "      <td>Ulysses S. Grant</td>\n",
              "      <td>Rutherford B. Hayes</td>\n",
              "      <td>James A. Garfield</td>\n",
              "      <td>Chester A. Arthur</td>\n",
              "      <td>Benjamin Harrison</td>\n",
              "      <td>William McKinley</td>\n",
              "      <td>Theodore Roosevelt</td>\n",
              "      <td>William Howard Taft</td>\n",
              "      <td>Woodrow Wilson</td>\n",
              "      <td>Warren G. Harding</td>\n",
              "      <td>Calvin Coolidge</td>\n",
              "      <td>Herbert Hoover</td>\n",
              "      <td>Franklin D. Roosevelt</td>\n",
              "      <td>Harry S. Truman</td>\n",
              "      <td>Dwight D. Eisenhower</td>\n",
              "      <td>John F. Kennedy</td>\n",
              "      <td>Lyndon B. Johnson</td>\n",
              "      <td>Richard Nixon</td>\n",
              "      <td>Gerald Ford</td>\n",
              "      <td>Jimmy Carter</td>\n",
              "      <td>Ronald Reagan</td>\n",
              "      <td>George H. W. Bush</td>\n",
              "      <td>Bill Clinton</td>\n",
              "      <td>George W. Bush</td>\n",
              "      <td>Barack Obama</td>\n",
              "    </tr>\n",
              "    <tr>\n",
              "      <th>height(cm)</th>\n",
              "      <td>189</td>\n",
              "      <td>170</td>\n",
              "      <td>189</td>\n",
              "      <td>163</td>\n",
              "      <td>183</td>\n",
              "      <td>171</td>\n",
              "      <td>185</td>\n",
              "      <td>168</td>\n",
              "      <td>173</td>\n",
              "      <td>183</td>\n",
              "      <td>173</td>\n",
              "      <td>173</td>\n",
              "      <td>175</td>\n",
              "      <td>178</td>\n",
              "      <td>183</td>\n",
              "      <td>193</td>\n",
              "      <td>178</td>\n",
              "      <td>173</td>\n",
              "      <td>174</td>\n",
              "      <td>183</td>\n",
              "      <td>183</td>\n",
              "      <td>168</td>\n",
              "      <td>170</td>\n",
              "      <td>178</td>\n",
              "      <td>182</td>\n",
              "      <td>180</td>\n",
              "      <td>183</td>\n",
              "      <td>178</td>\n",
              "      <td>182</td>\n",
              "      <td>188</td>\n",
              "      <td>175</td>\n",
              "      <td>179</td>\n",
              "      <td>183</td>\n",
              "      <td>193</td>\n",
              "      <td>182</td>\n",
              "      <td>183</td>\n",
              "      <td>177</td>\n",
              "      <td>185</td>\n",
              "      <td>188</td>\n",
              "      <td>188</td>\n",
              "      <td>182</td>\n",
              "      <td>185</td>\n",
              "    </tr>\n",
              "  </tbody>\n",
              "</table>\n",
              "</div>"
            ],
            "text/plain": [
              "                           0           1   ...              40            41\n",
              "order                       1           2  ...              43            44\n",
              "name        George Washington  John Adams  ...  George W. Bush  Barack Obama\n",
              "height(cm)                189         170  ...             182           185\n",
              "\n",
              "[3 rows x 42 columns]"
            ]
          },
          "metadata": {
            "tags": []
          },
          "execution_count": 120
        }
      ]
    },
    {
      "cell_type": "code",
      "metadata": {
        "colab": {
          "base_uri": "https://localhost:8080/"
        },
        "id": "9sSaiT3kFR2E",
        "outputId": "39d07771-87c4-4f44-ccaa-9162cf8fd764"
      },
      "source": [
        "pre.index"
      ],
      "execution_count": 123,
      "outputs": [
        {
          "output_type": "execute_result",
          "data": {
            "text/plain": [
              "RangeIndex(start=0, stop=42, step=1)"
            ]
          },
          "metadata": {
            "tags": []
          },
          "execution_count": 123
        }
      ]
    },
    {
      "cell_type": "code",
      "metadata": {
        "colab": {
          "base_uri": "https://localhost:8080/"
        },
        "id": "fgWUOxDXFuKP",
        "outputId": "53586ef6-e6e9-4376-fdf3-f9e1f45191e7"
      },
      "source": [
        "pre.columns"
      ],
      "execution_count": 124,
      "outputs": [
        {
          "output_type": "execute_result",
          "data": {
            "text/plain": [
              "Index(['order', 'name', 'height(cm)'], dtype='object')"
            ]
          },
          "metadata": {
            "tags": []
          },
          "execution_count": 124
        }
      ]
    },
    {
      "cell_type": "markdown",
      "metadata": {
        "id": "yHTw7g8lGEe-"
      },
      "source": [
        "**Example**\n",
        "\n"
      ]
    },
    {
      "cell_type": "code",
      "metadata": {
        "colab": {
          "base_uri": "https://localhost:8080/"
        },
        "id": "lv916oBGFzuJ",
        "outputId": "338dd2b6-f9c2-4184-fe6a-9e1c7682db59"
      },
      "source": [
        "ind=pd.Index([2,3,5,7,11])\n",
        "ind"
      ],
      "execution_count": 125,
      "outputs": [
        {
          "output_type": "execute_result",
          "data": {
            "text/plain": [
              "Int64Index([2, 3, 5, 7, 11], dtype='int64')"
            ]
          },
          "metadata": {
            "tags": []
          },
          "execution_count": 125
        }
      ]
    },
    {
      "cell_type": "code",
      "metadata": {
        "colab": {
          "base_uri": "https://localhost:8080/"
        },
        "id": "Wkc55PSIGLQD",
        "outputId": "d5c1e1fd-0874-4692-91ca-a92431a6c2c8"
      },
      "source": [
        "ind[1]"
      ],
      "execution_count": 126,
      "outputs": [
        {
          "output_type": "execute_result",
          "data": {
            "text/plain": [
              "3"
            ]
          },
          "metadata": {
            "tags": []
          },
          "execution_count": 126
        }
      ]
    },
    {
      "cell_type": "code",
      "metadata": {
        "colab": {
          "base_uri": "https://localhost:8080/"
        },
        "id": "t7QS52EKGPDQ",
        "outputId": "566a1a52-cdba-442c-bb8d-6ecb594b9544"
      },
      "source": [
        "ind[::2]"
      ],
      "execution_count": 127,
      "outputs": [
        {
          "output_type": "execute_result",
          "data": {
            "text/plain": [
              "Int64Index([2, 5, 11], dtype='int64')"
            ]
          },
          "metadata": {
            "tags": []
          },
          "execution_count": 127
        }
      ]
    },
    {
      "cell_type": "code",
      "metadata": {
        "colab": {
          "base_uri": "https://localhost:8080/"
        },
        "id": "uBN1MVPIGR8F",
        "outputId": "180938ee-9232-4987-81ae-7a495e0dcfdd"
      },
      "source": [
        "print(ind.size,ind.shape,ind.ndim,ind.dtype)"
      ],
      "execution_count": 128,
      "outputs": [
        {
          "output_type": "stream",
          "text": [
            "5 (5,) 1 int64\n"
          ],
          "name": "stdout"
        }
      ]
    },
    {
      "cell_type": "code",
      "metadata": {
        "colab": {
          "base_uri": "https://localhost:8080/",
          "height": 282
        },
        "id": "LXorgswQGUeA",
        "outputId": "2d6a6562-73c3-4186-9861-5dbdc4ddf9b8"
      },
      "source": [
        "ind[1]=0   #index as immutable array"
      ],
      "execution_count": 129,
      "outputs": [
        {
          "output_type": "error",
          "ename": "TypeError",
          "evalue": "ignored",
          "traceback": [
            "\u001b[0;31m---------------------------------------------------------------------------\u001b[0m",
            "\u001b[0;31mTypeError\u001b[0m                                 Traceback (most recent call last)",
            "\u001b[0;32m<ipython-input-129-8f6fa9998f35>\u001b[0m in \u001b[0;36m<module>\u001b[0;34m()\u001b[0m\n\u001b[0;32m----> 1\u001b[0;31m \u001b[0mind\u001b[0m\u001b[0;34m[\u001b[0m\u001b[0;36m1\u001b[0m\u001b[0;34m]\u001b[0m\u001b[0;34m=\u001b[0m\u001b[0;36m0\u001b[0m   \u001b[0;31m#index as immutable array\u001b[0m\u001b[0;34m\u001b[0m\u001b[0;34m\u001b[0m\u001b[0m\n\u001b[0m",
            "\u001b[0;32m/usr/local/lib/python3.7/dist-packages/pandas/core/indexes/base.py\u001b[0m in \u001b[0;36m__setitem__\u001b[0;34m(self, key, value)\u001b[0m\n\u001b[1;32m   4082\u001b[0m \u001b[0;34m\u001b[0m\u001b[0m\n\u001b[1;32m   4083\u001b[0m     \u001b[0;32mdef\u001b[0m \u001b[0m__setitem__\u001b[0m\u001b[0;34m(\u001b[0m\u001b[0mself\u001b[0m\u001b[0;34m,\u001b[0m \u001b[0mkey\u001b[0m\u001b[0;34m,\u001b[0m \u001b[0mvalue\u001b[0m\u001b[0;34m)\u001b[0m\u001b[0;34m:\u001b[0m\u001b[0;34m\u001b[0m\u001b[0;34m\u001b[0m\u001b[0m\n\u001b[0;32m-> 4084\u001b[0;31m         \u001b[0;32mraise\u001b[0m \u001b[0mTypeError\u001b[0m\u001b[0;34m(\u001b[0m\u001b[0;34m\"Index does not support mutable operations\"\u001b[0m\u001b[0;34m)\u001b[0m\u001b[0;34m\u001b[0m\u001b[0;34m\u001b[0m\u001b[0m\n\u001b[0m\u001b[1;32m   4085\u001b[0m \u001b[0;34m\u001b[0m\u001b[0m\n\u001b[1;32m   4086\u001b[0m     \u001b[0;32mdef\u001b[0m \u001b[0m__getitem__\u001b[0m\u001b[0;34m(\u001b[0m\u001b[0mself\u001b[0m\u001b[0;34m,\u001b[0m \u001b[0mkey\u001b[0m\u001b[0;34m)\u001b[0m\u001b[0;34m:\u001b[0m\u001b[0;34m\u001b[0m\u001b[0;34m\u001b[0m\u001b[0m\n",
            "\u001b[0;31mTypeError\u001b[0m: Index does not support mutable operations"
          ]
        }
      ]
    },
    {
      "cell_type": "code",
      "metadata": {
        "id": "Xag5aPybGXbe"
      },
      "source": [
        "#index as ordered set---union,intersection,symmetric difference.\n",
        "import pandas as pd\n",
        "indA=pd.Index([1,3,5,7,9])\n",
        "indB=pd.Index([2,3,5,7,11])"
      ],
      "execution_count": 130,
      "outputs": []
    },
    {
      "cell_type": "code",
      "metadata": {
        "colab": {
          "base_uri": "https://localhost:8080/"
        },
        "id": "SFUJmrpeGiHJ",
        "outputId": "730e4fbf-c31a-47f2-e448-69dd80e23b64"
      },
      "source": [
        "indA & indB"
      ],
      "execution_count": 131,
      "outputs": [
        {
          "output_type": "execute_result",
          "data": {
            "text/plain": [
              "Int64Index([3, 5, 7], dtype='int64')"
            ]
          },
          "metadata": {
            "tags": []
          },
          "execution_count": 131
        }
      ]
    },
    {
      "cell_type": "code",
      "metadata": {
        "colab": {
          "base_uri": "https://localhost:8080/"
        },
        "id": "6E87vzFVGkZE",
        "outputId": "b40eee2c-a5b1-4203-e552-7d740ee82742"
      },
      "source": [
        "indA | indB"
      ],
      "execution_count": 132,
      "outputs": [
        {
          "output_type": "execute_result",
          "data": {
            "text/plain": [
              "Int64Index([1, 2, 3, 5, 7, 9, 11], dtype='int64')"
            ]
          },
          "metadata": {
            "tags": []
          },
          "execution_count": 132
        }
      ]
    },
    {
      "cell_type": "code",
      "metadata": {
        "colab": {
          "base_uri": "https://localhost:8080/"
        },
        "id": "pfGt4HOeGnxo",
        "outputId": "4572b9e0-de23-4d7c-ef85-b5ee4b490861"
      },
      "source": [
        "indA ^ indB"
      ],
      "execution_count": 133,
      "outputs": [
        {
          "output_type": "execute_result",
          "data": {
            "text/plain": [
              "Int64Index([1, 2, 9, 11], dtype='int64')"
            ]
          },
          "metadata": {
            "tags": []
          },
          "execution_count": 133
        }
      ]
    },
    {
      "cell_type": "code",
      "metadata": {
        "colab": {
          "base_uri": "https://localhost:8080/",
          "height": 669
        },
        "id": "1eLNFjHnGr3e",
        "outputId": "d7b2ae11-261e-4d43-bd90-7b8b3a555e58"
      },
      "source": [
        "pre[0:20]"
      ],
      "execution_count": 134,
      "outputs": [
        {
          "output_type": "execute_result",
          "data": {
            "text/html": [
              "<div>\n",
              "<style scoped>\n",
              "    .dataframe tbody tr th:only-of-type {\n",
              "        vertical-align: middle;\n",
              "    }\n",
              "\n",
              "    .dataframe tbody tr th {\n",
              "        vertical-align: top;\n",
              "    }\n",
              "\n",
              "    .dataframe thead th {\n",
              "        text-align: right;\n",
              "    }\n",
              "</style>\n",
              "<table border=\"1\" class=\"dataframe\">\n",
              "  <thead>\n",
              "    <tr style=\"text-align: right;\">\n",
              "      <th></th>\n",
              "      <th>order</th>\n",
              "      <th>name</th>\n",
              "      <th>height(cm)</th>\n",
              "    </tr>\n",
              "  </thead>\n",
              "  <tbody>\n",
              "    <tr>\n",
              "      <th>0</th>\n",
              "      <td>1</td>\n",
              "      <td>George Washington</td>\n",
              "      <td>189</td>\n",
              "    </tr>\n",
              "    <tr>\n",
              "      <th>1</th>\n",
              "      <td>2</td>\n",
              "      <td>John Adams</td>\n",
              "      <td>170</td>\n",
              "    </tr>\n",
              "    <tr>\n",
              "      <th>2</th>\n",
              "      <td>3</td>\n",
              "      <td>Thomas Jefferson</td>\n",
              "      <td>189</td>\n",
              "    </tr>\n",
              "    <tr>\n",
              "      <th>3</th>\n",
              "      <td>4</td>\n",
              "      <td>James Madison</td>\n",
              "      <td>163</td>\n",
              "    </tr>\n",
              "    <tr>\n",
              "      <th>4</th>\n",
              "      <td>5</td>\n",
              "      <td>James Monroe</td>\n",
              "      <td>183</td>\n",
              "    </tr>\n",
              "    <tr>\n",
              "      <th>5</th>\n",
              "      <td>6</td>\n",
              "      <td>John Quincy Adams</td>\n",
              "      <td>171</td>\n",
              "    </tr>\n",
              "    <tr>\n",
              "      <th>6</th>\n",
              "      <td>7</td>\n",
              "      <td>Andrew Jackson</td>\n",
              "      <td>185</td>\n",
              "    </tr>\n",
              "    <tr>\n",
              "      <th>7</th>\n",
              "      <td>8</td>\n",
              "      <td>Martin Van Buren</td>\n",
              "      <td>168</td>\n",
              "    </tr>\n",
              "    <tr>\n",
              "      <th>8</th>\n",
              "      <td>9</td>\n",
              "      <td>William Henry Harrison</td>\n",
              "      <td>173</td>\n",
              "    </tr>\n",
              "    <tr>\n",
              "      <th>9</th>\n",
              "      <td>10</td>\n",
              "      <td>John Tyler</td>\n",
              "      <td>183</td>\n",
              "    </tr>\n",
              "    <tr>\n",
              "      <th>10</th>\n",
              "      <td>11</td>\n",
              "      <td>James K. Polk</td>\n",
              "      <td>173</td>\n",
              "    </tr>\n",
              "    <tr>\n",
              "      <th>11</th>\n",
              "      <td>12</td>\n",
              "      <td>Zachary Taylor</td>\n",
              "      <td>173</td>\n",
              "    </tr>\n",
              "    <tr>\n",
              "      <th>12</th>\n",
              "      <td>13</td>\n",
              "      <td>Millard Fillmore</td>\n",
              "      <td>175</td>\n",
              "    </tr>\n",
              "    <tr>\n",
              "      <th>13</th>\n",
              "      <td>14</td>\n",
              "      <td>Franklin Pierce</td>\n",
              "      <td>178</td>\n",
              "    </tr>\n",
              "    <tr>\n",
              "      <th>14</th>\n",
              "      <td>15</td>\n",
              "      <td>James Buchanan</td>\n",
              "      <td>183</td>\n",
              "    </tr>\n",
              "    <tr>\n",
              "      <th>15</th>\n",
              "      <td>16</td>\n",
              "      <td>Abraham Lincoln</td>\n",
              "      <td>193</td>\n",
              "    </tr>\n",
              "    <tr>\n",
              "      <th>16</th>\n",
              "      <td>17</td>\n",
              "      <td>Andrew Johnson</td>\n",
              "      <td>178</td>\n",
              "    </tr>\n",
              "    <tr>\n",
              "      <th>17</th>\n",
              "      <td>18</td>\n",
              "      <td>Ulysses S. Grant</td>\n",
              "      <td>173</td>\n",
              "    </tr>\n",
              "    <tr>\n",
              "      <th>18</th>\n",
              "      <td>19</td>\n",
              "      <td>Rutherford B. Hayes</td>\n",
              "      <td>174</td>\n",
              "    </tr>\n",
              "    <tr>\n",
              "      <th>19</th>\n",
              "      <td>20</td>\n",
              "      <td>James A. Garfield</td>\n",
              "      <td>183</td>\n",
              "    </tr>\n",
              "  </tbody>\n",
              "</table>\n",
              "</div>"
            ],
            "text/plain": [
              "    order                    name  height(cm)\n",
              "0       1       George Washington         189\n",
              "1       2              John Adams         170\n",
              "2       3        Thomas Jefferson         189\n",
              "3       4           James Madison         163\n",
              "4       5            James Monroe         183\n",
              "5       6       John Quincy Adams         171\n",
              "6       7          Andrew Jackson         185\n",
              "7       8        Martin Van Buren         168\n",
              "8       9  William Henry Harrison         173\n",
              "9      10              John Tyler         183\n",
              "10     11           James K. Polk         173\n",
              "11     12          Zachary Taylor         173\n",
              "12     13        Millard Fillmore         175\n",
              "13     14         Franklin Pierce         178\n",
              "14     15          James Buchanan         183\n",
              "15     16         Abraham Lincoln         193\n",
              "16     17          Andrew Johnson         178\n",
              "17     18        Ulysses S. Grant         173\n",
              "18     19     Rutherford B. Hayes         174\n",
              "19     20       James A. Garfield         183"
            ]
          },
          "metadata": {
            "tags": []
          },
          "execution_count": 134
        }
      ]
    },
    {
      "cell_type": "code",
      "metadata": {
        "colab": {
          "base_uri": "https://localhost:8080/",
          "height": 142
        },
        "id": "xiQ3PJKQG8mu",
        "outputId": "b00bf13d-57b6-430c-cf2d-a02ea9b13b33"
      },
      "source": [
        "pre[::20]"
      ],
      "execution_count": 135,
      "outputs": [
        {
          "output_type": "execute_result",
          "data": {
            "text/html": [
              "<div>\n",
              "<style scoped>\n",
              "    .dataframe tbody tr th:only-of-type {\n",
              "        vertical-align: middle;\n",
              "    }\n",
              "\n",
              "    .dataframe tbody tr th {\n",
              "        vertical-align: top;\n",
              "    }\n",
              "\n",
              "    .dataframe thead th {\n",
              "        text-align: right;\n",
              "    }\n",
              "</style>\n",
              "<table border=\"1\" class=\"dataframe\">\n",
              "  <thead>\n",
              "    <tr style=\"text-align: right;\">\n",
              "      <th></th>\n",
              "      <th>order</th>\n",
              "      <th>name</th>\n",
              "      <th>height(cm)</th>\n",
              "    </tr>\n",
              "  </thead>\n",
              "  <tbody>\n",
              "    <tr>\n",
              "      <th>0</th>\n",
              "      <td>1</td>\n",
              "      <td>George Washington</td>\n",
              "      <td>189</td>\n",
              "    </tr>\n",
              "    <tr>\n",
              "      <th>20</th>\n",
              "      <td>21</td>\n",
              "      <td>Chester A. Arthur</td>\n",
              "      <td>183</td>\n",
              "    </tr>\n",
              "    <tr>\n",
              "      <th>40</th>\n",
              "      <td>43</td>\n",
              "      <td>George W. Bush</td>\n",
              "      <td>182</td>\n",
              "    </tr>\n",
              "  </tbody>\n",
              "</table>\n",
              "</div>"
            ],
            "text/plain": [
              "    order               name  height(cm)\n",
              "0       1  George Washington         189\n",
              "20     21  Chester A. Arthur         183\n",
              "40     43     George W. Bush         182"
            ]
          },
          "metadata": {
            "tags": []
          },
          "execution_count": 135
        }
      ]
    },
    {
      "cell_type": "code",
      "metadata": {
        "colab": {
          "base_uri": "https://localhost:8080/",
          "height": 700
        },
        "id": "KrWkibcDG_er",
        "outputId": "783f20df-204e-4701-c462-ffe5472f6522"
      },
      "source": [
        "pre[::-2]"
      ],
      "execution_count": 136,
      "outputs": [
        {
          "output_type": "execute_result",
          "data": {
            "text/html": [
              "<div>\n",
              "<style scoped>\n",
              "    .dataframe tbody tr th:only-of-type {\n",
              "        vertical-align: middle;\n",
              "    }\n",
              "\n",
              "    .dataframe tbody tr th {\n",
              "        vertical-align: top;\n",
              "    }\n",
              "\n",
              "    .dataframe thead th {\n",
              "        text-align: right;\n",
              "    }\n",
              "</style>\n",
              "<table border=\"1\" class=\"dataframe\">\n",
              "  <thead>\n",
              "    <tr style=\"text-align: right;\">\n",
              "      <th></th>\n",
              "      <th>order</th>\n",
              "      <th>name</th>\n",
              "      <th>height(cm)</th>\n",
              "    </tr>\n",
              "  </thead>\n",
              "  <tbody>\n",
              "    <tr>\n",
              "      <th>41</th>\n",
              "      <td>44</td>\n",
              "      <td>Barack Obama</td>\n",
              "      <td>185</td>\n",
              "    </tr>\n",
              "    <tr>\n",
              "      <th>39</th>\n",
              "      <td>42</td>\n",
              "      <td>Bill Clinton</td>\n",
              "      <td>188</td>\n",
              "    </tr>\n",
              "    <tr>\n",
              "      <th>37</th>\n",
              "      <td>40</td>\n",
              "      <td>Ronald Reagan</td>\n",
              "      <td>185</td>\n",
              "    </tr>\n",
              "    <tr>\n",
              "      <th>35</th>\n",
              "      <td>38</td>\n",
              "      <td>Gerald Ford</td>\n",
              "      <td>183</td>\n",
              "    </tr>\n",
              "    <tr>\n",
              "      <th>33</th>\n",
              "      <td>36</td>\n",
              "      <td>Lyndon B. Johnson</td>\n",
              "      <td>193</td>\n",
              "    </tr>\n",
              "    <tr>\n",
              "      <th>31</th>\n",
              "      <td>34</td>\n",
              "      <td>Dwight D. Eisenhower</td>\n",
              "      <td>179</td>\n",
              "    </tr>\n",
              "    <tr>\n",
              "      <th>29</th>\n",
              "      <td>32</td>\n",
              "      <td>Franklin D. Roosevelt</td>\n",
              "      <td>188</td>\n",
              "    </tr>\n",
              "    <tr>\n",
              "      <th>27</th>\n",
              "      <td>30</td>\n",
              "      <td>Calvin Coolidge</td>\n",
              "      <td>178</td>\n",
              "    </tr>\n",
              "    <tr>\n",
              "      <th>25</th>\n",
              "      <td>28</td>\n",
              "      <td>Woodrow Wilson</td>\n",
              "      <td>180</td>\n",
              "    </tr>\n",
              "    <tr>\n",
              "      <th>23</th>\n",
              "      <td>26</td>\n",
              "      <td>Theodore Roosevelt</td>\n",
              "      <td>178</td>\n",
              "    </tr>\n",
              "    <tr>\n",
              "      <th>21</th>\n",
              "      <td>23</td>\n",
              "      <td>Benjamin Harrison</td>\n",
              "      <td>168</td>\n",
              "    </tr>\n",
              "    <tr>\n",
              "      <th>19</th>\n",
              "      <td>20</td>\n",
              "      <td>James A. Garfield</td>\n",
              "      <td>183</td>\n",
              "    </tr>\n",
              "    <tr>\n",
              "      <th>17</th>\n",
              "      <td>18</td>\n",
              "      <td>Ulysses S. Grant</td>\n",
              "      <td>173</td>\n",
              "    </tr>\n",
              "    <tr>\n",
              "      <th>15</th>\n",
              "      <td>16</td>\n",
              "      <td>Abraham Lincoln</td>\n",
              "      <td>193</td>\n",
              "    </tr>\n",
              "    <tr>\n",
              "      <th>13</th>\n",
              "      <td>14</td>\n",
              "      <td>Franklin Pierce</td>\n",
              "      <td>178</td>\n",
              "    </tr>\n",
              "    <tr>\n",
              "      <th>11</th>\n",
              "      <td>12</td>\n",
              "      <td>Zachary Taylor</td>\n",
              "      <td>173</td>\n",
              "    </tr>\n",
              "    <tr>\n",
              "      <th>9</th>\n",
              "      <td>10</td>\n",
              "      <td>John Tyler</td>\n",
              "      <td>183</td>\n",
              "    </tr>\n",
              "    <tr>\n",
              "      <th>7</th>\n",
              "      <td>8</td>\n",
              "      <td>Martin Van Buren</td>\n",
              "      <td>168</td>\n",
              "    </tr>\n",
              "    <tr>\n",
              "      <th>5</th>\n",
              "      <td>6</td>\n",
              "      <td>John Quincy Adams</td>\n",
              "      <td>171</td>\n",
              "    </tr>\n",
              "    <tr>\n",
              "      <th>3</th>\n",
              "      <td>4</td>\n",
              "      <td>James Madison</td>\n",
              "      <td>163</td>\n",
              "    </tr>\n",
              "    <tr>\n",
              "      <th>1</th>\n",
              "      <td>2</td>\n",
              "      <td>John Adams</td>\n",
              "      <td>170</td>\n",
              "    </tr>\n",
              "  </tbody>\n",
              "</table>\n",
              "</div>"
            ],
            "text/plain": [
              "    order                   name  height(cm)\n",
              "41     44           Barack Obama         185\n",
              "39     42           Bill Clinton         188\n",
              "37     40          Ronald Reagan         185\n",
              "35     38            Gerald Ford         183\n",
              "33     36      Lyndon B. Johnson         193\n",
              "31     34   Dwight D. Eisenhower         179\n",
              "29     32  Franklin D. Roosevelt         188\n",
              "27     30        Calvin Coolidge         178\n",
              "25     28         Woodrow Wilson         180\n",
              "23     26     Theodore Roosevelt         178\n",
              "21     23      Benjamin Harrison         168\n",
              "19     20      James A. Garfield         183\n",
              "17     18       Ulysses S. Grant         173\n",
              "15     16        Abraham Lincoln         193\n",
              "13     14        Franklin Pierce         178\n",
              "11     12         Zachary Taylor         173\n",
              "9      10             John Tyler         183\n",
              "7       8       Martin Van Buren         168\n",
              "5       6      John Quincy Adams         171\n",
              "3       4          James Madison         163\n",
              "1       2             John Adams         170"
            ]
          },
          "metadata": {
            "tags": []
          },
          "execution_count": 136
        }
      ]
    },
    {
      "cell_type": "code",
      "metadata": {
        "colab": {
          "base_uri": "https://localhost:8080/",
          "height": 1000
        },
        "id": "Ph1ilM0nHCjv",
        "outputId": "6612770a-d15a-4e34-a9ed-d223e57fcae4"
      },
      "source": [
        "pre[2:35]"
      ],
      "execution_count": 137,
      "outputs": [
        {
          "output_type": "execute_result",
          "data": {
            "text/html": [
              "<div>\n",
              "<style scoped>\n",
              "    .dataframe tbody tr th:only-of-type {\n",
              "        vertical-align: middle;\n",
              "    }\n",
              "\n",
              "    .dataframe tbody tr th {\n",
              "        vertical-align: top;\n",
              "    }\n",
              "\n",
              "    .dataframe thead th {\n",
              "        text-align: right;\n",
              "    }\n",
              "</style>\n",
              "<table border=\"1\" class=\"dataframe\">\n",
              "  <thead>\n",
              "    <tr style=\"text-align: right;\">\n",
              "      <th></th>\n",
              "      <th>order</th>\n",
              "      <th>name</th>\n",
              "      <th>height(cm)</th>\n",
              "    </tr>\n",
              "  </thead>\n",
              "  <tbody>\n",
              "    <tr>\n",
              "      <th>2</th>\n",
              "      <td>3</td>\n",
              "      <td>Thomas Jefferson</td>\n",
              "      <td>189</td>\n",
              "    </tr>\n",
              "    <tr>\n",
              "      <th>3</th>\n",
              "      <td>4</td>\n",
              "      <td>James Madison</td>\n",
              "      <td>163</td>\n",
              "    </tr>\n",
              "    <tr>\n",
              "      <th>4</th>\n",
              "      <td>5</td>\n",
              "      <td>James Monroe</td>\n",
              "      <td>183</td>\n",
              "    </tr>\n",
              "    <tr>\n",
              "      <th>5</th>\n",
              "      <td>6</td>\n",
              "      <td>John Quincy Adams</td>\n",
              "      <td>171</td>\n",
              "    </tr>\n",
              "    <tr>\n",
              "      <th>6</th>\n",
              "      <td>7</td>\n",
              "      <td>Andrew Jackson</td>\n",
              "      <td>185</td>\n",
              "    </tr>\n",
              "    <tr>\n",
              "      <th>7</th>\n",
              "      <td>8</td>\n",
              "      <td>Martin Van Buren</td>\n",
              "      <td>168</td>\n",
              "    </tr>\n",
              "    <tr>\n",
              "      <th>8</th>\n",
              "      <td>9</td>\n",
              "      <td>William Henry Harrison</td>\n",
              "      <td>173</td>\n",
              "    </tr>\n",
              "    <tr>\n",
              "      <th>9</th>\n",
              "      <td>10</td>\n",
              "      <td>John Tyler</td>\n",
              "      <td>183</td>\n",
              "    </tr>\n",
              "    <tr>\n",
              "      <th>10</th>\n",
              "      <td>11</td>\n",
              "      <td>James K. Polk</td>\n",
              "      <td>173</td>\n",
              "    </tr>\n",
              "    <tr>\n",
              "      <th>11</th>\n",
              "      <td>12</td>\n",
              "      <td>Zachary Taylor</td>\n",
              "      <td>173</td>\n",
              "    </tr>\n",
              "    <tr>\n",
              "      <th>12</th>\n",
              "      <td>13</td>\n",
              "      <td>Millard Fillmore</td>\n",
              "      <td>175</td>\n",
              "    </tr>\n",
              "    <tr>\n",
              "      <th>13</th>\n",
              "      <td>14</td>\n",
              "      <td>Franklin Pierce</td>\n",
              "      <td>178</td>\n",
              "    </tr>\n",
              "    <tr>\n",
              "      <th>14</th>\n",
              "      <td>15</td>\n",
              "      <td>James Buchanan</td>\n",
              "      <td>183</td>\n",
              "    </tr>\n",
              "    <tr>\n",
              "      <th>15</th>\n",
              "      <td>16</td>\n",
              "      <td>Abraham Lincoln</td>\n",
              "      <td>193</td>\n",
              "    </tr>\n",
              "    <tr>\n",
              "      <th>16</th>\n",
              "      <td>17</td>\n",
              "      <td>Andrew Johnson</td>\n",
              "      <td>178</td>\n",
              "    </tr>\n",
              "    <tr>\n",
              "      <th>17</th>\n",
              "      <td>18</td>\n",
              "      <td>Ulysses S. Grant</td>\n",
              "      <td>173</td>\n",
              "    </tr>\n",
              "    <tr>\n",
              "      <th>18</th>\n",
              "      <td>19</td>\n",
              "      <td>Rutherford B. Hayes</td>\n",
              "      <td>174</td>\n",
              "    </tr>\n",
              "    <tr>\n",
              "      <th>19</th>\n",
              "      <td>20</td>\n",
              "      <td>James A. Garfield</td>\n",
              "      <td>183</td>\n",
              "    </tr>\n",
              "    <tr>\n",
              "      <th>20</th>\n",
              "      <td>21</td>\n",
              "      <td>Chester A. Arthur</td>\n",
              "      <td>183</td>\n",
              "    </tr>\n",
              "    <tr>\n",
              "      <th>21</th>\n",
              "      <td>23</td>\n",
              "      <td>Benjamin Harrison</td>\n",
              "      <td>168</td>\n",
              "    </tr>\n",
              "    <tr>\n",
              "      <th>22</th>\n",
              "      <td>25</td>\n",
              "      <td>William McKinley</td>\n",
              "      <td>170</td>\n",
              "    </tr>\n",
              "    <tr>\n",
              "      <th>23</th>\n",
              "      <td>26</td>\n",
              "      <td>Theodore Roosevelt</td>\n",
              "      <td>178</td>\n",
              "    </tr>\n",
              "    <tr>\n",
              "      <th>24</th>\n",
              "      <td>27</td>\n",
              "      <td>William Howard Taft</td>\n",
              "      <td>182</td>\n",
              "    </tr>\n",
              "    <tr>\n",
              "      <th>25</th>\n",
              "      <td>28</td>\n",
              "      <td>Woodrow Wilson</td>\n",
              "      <td>180</td>\n",
              "    </tr>\n",
              "    <tr>\n",
              "      <th>26</th>\n",
              "      <td>29</td>\n",
              "      <td>Warren G. Harding</td>\n",
              "      <td>183</td>\n",
              "    </tr>\n",
              "    <tr>\n",
              "      <th>27</th>\n",
              "      <td>30</td>\n",
              "      <td>Calvin Coolidge</td>\n",
              "      <td>178</td>\n",
              "    </tr>\n",
              "    <tr>\n",
              "      <th>28</th>\n",
              "      <td>31</td>\n",
              "      <td>Herbert Hoover</td>\n",
              "      <td>182</td>\n",
              "    </tr>\n",
              "    <tr>\n",
              "      <th>29</th>\n",
              "      <td>32</td>\n",
              "      <td>Franklin D. Roosevelt</td>\n",
              "      <td>188</td>\n",
              "    </tr>\n",
              "    <tr>\n",
              "      <th>30</th>\n",
              "      <td>33</td>\n",
              "      <td>Harry S. Truman</td>\n",
              "      <td>175</td>\n",
              "    </tr>\n",
              "    <tr>\n",
              "      <th>31</th>\n",
              "      <td>34</td>\n",
              "      <td>Dwight D. Eisenhower</td>\n",
              "      <td>179</td>\n",
              "    </tr>\n",
              "    <tr>\n",
              "      <th>32</th>\n",
              "      <td>35</td>\n",
              "      <td>John F. Kennedy</td>\n",
              "      <td>183</td>\n",
              "    </tr>\n",
              "    <tr>\n",
              "      <th>33</th>\n",
              "      <td>36</td>\n",
              "      <td>Lyndon B. Johnson</td>\n",
              "      <td>193</td>\n",
              "    </tr>\n",
              "    <tr>\n",
              "      <th>34</th>\n",
              "      <td>37</td>\n",
              "      <td>Richard Nixon</td>\n",
              "      <td>182</td>\n",
              "    </tr>\n",
              "  </tbody>\n",
              "</table>\n",
              "</div>"
            ],
            "text/plain": [
              "    order                    name  height(cm)\n",
              "2       3        Thomas Jefferson         189\n",
              "3       4           James Madison         163\n",
              "4       5            James Monroe         183\n",
              "5       6       John Quincy Adams         171\n",
              "6       7          Andrew Jackson         185\n",
              "7       8        Martin Van Buren         168\n",
              "8       9  William Henry Harrison         173\n",
              "9      10              John Tyler         183\n",
              "10     11           James K. Polk         173\n",
              "11     12          Zachary Taylor         173\n",
              "12     13        Millard Fillmore         175\n",
              "13     14         Franklin Pierce         178\n",
              "14     15          James Buchanan         183\n",
              "15     16         Abraham Lincoln         193\n",
              "16     17          Andrew Johnson         178\n",
              "17     18        Ulysses S. Grant         173\n",
              "18     19     Rutherford B. Hayes         174\n",
              "19     20       James A. Garfield         183\n",
              "20     21       Chester A. Arthur         183\n",
              "21     23       Benjamin Harrison         168\n",
              "22     25        William McKinley         170\n",
              "23     26      Theodore Roosevelt         178\n",
              "24     27     William Howard Taft         182\n",
              "25     28          Woodrow Wilson         180\n",
              "26     29       Warren G. Harding         183\n",
              "27     30         Calvin Coolidge         178\n",
              "28     31          Herbert Hoover         182\n",
              "29     32   Franklin D. Roosevelt         188\n",
              "30     33         Harry S. Truman         175\n",
              "31     34    Dwight D. Eisenhower         179\n",
              "32     35         John F. Kennedy         183\n",
              "33     36       Lyndon B. Johnson         193\n",
              "34     37           Richard Nixon         182"
            ]
          },
          "metadata": {
            "tags": []
          },
          "execution_count": 137
        }
      ]
    },
    {
      "cell_type": "code",
      "metadata": {
        "colab": {
          "base_uri": "https://localhost:8080/",
          "height": 917
        },
        "id": "EIPgEzsNHFYg",
        "outputId": "c73d5982-5662-43a1-cb77-6be18ddf77f1"
      },
      "source": [
        "pre.iloc[2:30]"
      ],
      "execution_count": 138,
      "outputs": [
        {
          "output_type": "execute_result",
          "data": {
            "text/html": [
              "<div>\n",
              "<style scoped>\n",
              "    .dataframe tbody tr th:only-of-type {\n",
              "        vertical-align: middle;\n",
              "    }\n",
              "\n",
              "    .dataframe tbody tr th {\n",
              "        vertical-align: top;\n",
              "    }\n",
              "\n",
              "    .dataframe thead th {\n",
              "        text-align: right;\n",
              "    }\n",
              "</style>\n",
              "<table border=\"1\" class=\"dataframe\">\n",
              "  <thead>\n",
              "    <tr style=\"text-align: right;\">\n",
              "      <th></th>\n",
              "      <th>order</th>\n",
              "      <th>name</th>\n",
              "      <th>height(cm)</th>\n",
              "    </tr>\n",
              "  </thead>\n",
              "  <tbody>\n",
              "    <tr>\n",
              "      <th>2</th>\n",
              "      <td>3</td>\n",
              "      <td>Thomas Jefferson</td>\n",
              "      <td>189</td>\n",
              "    </tr>\n",
              "    <tr>\n",
              "      <th>3</th>\n",
              "      <td>4</td>\n",
              "      <td>James Madison</td>\n",
              "      <td>163</td>\n",
              "    </tr>\n",
              "    <tr>\n",
              "      <th>4</th>\n",
              "      <td>5</td>\n",
              "      <td>James Monroe</td>\n",
              "      <td>183</td>\n",
              "    </tr>\n",
              "    <tr>\n",
              "      <th>5</th>\n",
              "      <td>6</td>\n",
              "      <td>John Quincy Adams</td>\n",
              "      <td>171</td>\n",
              "    </tr>\n",
              "    <tr>\n",
              "      <th>6</th>\n",
              "      <td>7</td>\n",
              "      <td>Andrew Jackson</td>\n",
              "      <td>185</td>\n",
              "    </tr>\n",
              "    <tr>\n",
              "      <th>7</th>\n",
              "      <td>8</td>\n",
              "      <td>Martin Van Buren</td>\n",
              "      <td>168</td>\n",
              "    </tr>\n",
              "    <tr>\n",
              "      <th>8</th>\n",
              "      <td>9</td>\n",
              "      <td>William Henry Harrison</td>\n",
              "      <td>173</td>\n",
              "    </tr>\n",
              "    <tr>\n",
              "      <th>9</th>\n",
              "      <td>10</td>\n",
              "      <td>John Tyler</td>\n",
              "      <td>183</td>\n",
              "    </tr>\n",
              "    <tr>\n",
              "      <th>10</th>\n",
              "      <td>11</td>\n",
              "      <td>James K. Polk</td>\n",
              "      <td>173</td>\n",
              "    </tr>\n",
              "    <tr>\n",
              "      <th>11</th>\n",
              "      <td>12</td>\n",
              "      <td>Zachary Taylor</td>\n",
              "      <td>173</td>\n",
              "    </tr>\n",
              "    <tr>\n",
              "      <th>12</th>\n",
              "      <td>13</td>\n",
              "      <td>Millard Fillmore</td>\n",
              "      <td>175</td>\n",
              "    </tr>\n",
              "    <tr>\n",
              "      <th>13</th>\n",
              "      <td>14</td>\n",
              "      <td>Franklin Pierce</td>\n",
              "      <td>178</td>\n",
              "    </tr>\n",
              "    <tr>\n",
              "      <th>14</th>\n",
              "      <td>15</td>\n",
              "      <td>James Buchanan</td>\n",
              "      <td>183</td>\n",
              "    </tr>\n",
              "    <tr>\n",
              "      <th>15</th>\n",
              "      <td>16</td>\n",
              "      <td>Abraham Lincoln</td>\n",
              "      <td>193</td>\n",
              "    </tr>\n",
              "    <tr>\n",
              "      <th>16</th>\n",
              "      <td>17</td>\n",
              "      <td>Andrew Johnson</td>\n",
              "      <td>178</td>\n",
              "    </tr>\n",
              "    <tr>\n",
              "      <th>17</th>\n",
              "      <td>18</td>\n",
              "      <td>Ulysses S. Grant</td>\n",
              "      <td>173</td>\n",
              "    </tr>\n",
              "    <tr>\n",
              "      <th>18</th>\n",
              "      <td>19</td>\n",
              "      <td>Rutherford B. Hayes</td>\n",
              "      <td>174</td>\n",
              "    </tr>\n",
              "    <tr>\n",
              "      <th>19</th>\n",
              "      <td>20</td>\n",
              "      <td>James A. Garfield</td>\n",
              "      <td>183</td>\n",
              "    </tr>\n",
              "    <tr>\n",
              "      <th>20</th>\n",
              "      <td>21</td>\n",
              "      <td>Chester A. Arthur</td>\n",
              "      <td>183</td>\n",
              "    </tr>\n",
              "    <tr>\n",
              "      <th>21</th>\n",
              "      <td>23</td>\n",
              "      <td>Benjamin Harrison</td>\n",
              "      <td>168</td>\n",
              "    </tr>\n",
              "    <tr>\n",
              "      <th>22</th>\n",
              "      <td>25</td>\n",
              "      <td>William McKinley</td>\n",
              "      <td>170</td>\n",
              "    </tr>\n",
              "    <tr>\n",
              "      <th>23</th>\n",
              "      <td>26</td>\n",
              "      <td>Theodore Roosevelt</td>\n",
              "      <td>178</td>\n",
              "    </tr>\n",
              "    <tr>\n",
              "      <th>24</th>\n",
              "      <td>27</td>\n",
              "      <td>William Howard Taft</td>\n",
              "      <td>182</td>\n",
              "    </tr>\n",
              "    <tr>\n",
              "      <th>25</th>\n",
              "      <td>28</td>\n",
              "      <td>Woodrow Wilson</td>\n",
              "      <td>180</td>\n",
              "    </tr>\n",
              "    <tr>\n",
              "      <th>26</th>\n",
              "      <td>29</td>\n",
              "      <td>Warren G. Harding</td>\n",
              "      <td>183</td>\n",
              "    </tr>\n",
              "    <tr>\n",
              "      <th>27</th>\n",
              "      <td>30</td>\n",
              "      <td>Calvin Coolidge</td>\n",
              "      <td>178</td>\n",
              "    </tr>\n",
              "    <tr>\n",
              "      <th>28</th>\n",
              "      <td>31</td>\n",
              "      <td>Herbert Hoover</td>\n",
              "      <td>182</td>\n",
              "    </tr>\n",
              "    <tr>\n",
              "      <th>29</th>\n",
              "      <td>32</td>\n",
              "      <td>Franklin D. Roosevelt</td>\n",
              "      <td>188</td>\n",
              "    </tr>\n",
              "  </tbody>\n",
              "</table>\n",
              "</div>"
            ],
            "text/plain": [
              "    order                    name  height(cm)\n",
              "2       3        Thomas Jefferson         189\n",
              "3       4           James Madison         163\n",
              "4       5            James Monroe         183\n",
              "5       6       John Quincy Adams         171\n",
              "6       7          Andrew Jackson         185\n",
              "7       8        Martin Van Buren         168\n",
              "8       9  William Henry Harrison         173\n",
              "9      10              John Tyler         183\n",
              "10     11           James K. Polk         173\n",
              "11     12          Zachary Taylor         173\n",
              "12     13        Millard Fillmore         175\n",
              "13     14         Franklin Pierce         178\n",
              "14     15          James Buchanan         183\n",
              "15     16         Abraham Lincoln         193\n",
              "16     17          Andrew Johnson         178\n",
              "17     18        Ulysses S. Grant         173\n",
              "18     19     Rutherford B. Hayes         174\n",
              "19     20       James A. Garfield         183\n",
              "20     21       Chester A. Arthur         183\n",
              "21     23       Benjamin Harrison         168\n",
              "22     25        William McKinley         170\n",
              "23     26      Theodore Roosevelt         178\n",
              "24     27     William Howard Taft         182\n",
              "25     28          Woodrow Wilson         180\n",
              "26     29       Warren G. Harding         183\n",
              "27     30         Calvin Coolidge         178\n",
              "28     31          Herbert Hoover         182\n",
              "29     32   Franklin D. Roosevelt         188"
            ]
          },
          "metadata": {
            "tags": []
          },
          "execution_count": 138
        }
      ]
    },
    {
      "cell_type": "code",
      "metadata": {
        "colab": {
          "base_uri": "https://localhost:8080/",
          "height": 793
        },
        "id": "UXUg6duKHOZs",
        "outputId": "04142179-7abd-4edb-e1f4-76d1019e728e"
      },
      "source": [
        "pre.loc[2:25]"
      ],
      "execution_count": 139,
      "outputs": [
        {
          "output_type": "execute_result",
          "data": {
            "text/html": [
              "<div>\n",
              "<style scoped>\n",
              "    .dataframe tbody tr th:only-of-type {\n",
              "        vertical-align: middle;\n",
              "    }\n",
              "\n",
              "    .dataframe tbody tr th {\n",
              "        vertical-align: top;\n",
              "    }\n",
              "\n",
              "    .dataframe thead th {\n",
              "        text-align: right;\n",
              "    }\n",
              "</style>\n",
              "<table border=\"1\" class=\"dataframe\">\n",
              "  <thead>\n",
              "    <tr style=\"text-align: right;\">\n",
              "      <th></th>\n",
              "      <th>order</th>\n",
              "      <th>name</th>\n",
              "      <th>height(cm)</th>\n",
              "    </tr>\n",
              "  </thead>\n",
              "  <tbody>\n",
              "    <tr>\n",
              "      <th>2</th>\n",
              "      <td>3</td>\n",
              "      <td>Thomas Jefferson</td>\n",
              "      <td>189</td>\n",
              "    </tr>\n",
              "    <tr>\n",
              "      <th>3</th>\n",
              "      <td>4</td>\n",
              "      <td>James Madison</td>\n",
              "      <td>163</td>\n",
              "    </tr>\n",
              "    <tr>\n",
              "      <th>4</th>\n",
              "      <td>5</td>\n",
              "      <td>James Monroe</td>\n",
              "      <td>183</td>\n",
              "    </tr>\n",
              "    <tr>\n",
              "      <th>5</th>\n",
              "      <td>6</td>\n",
              "      <td>John Quincy Adams</td>\n",
              "      <td>171</td>\n",
              "    </tr>\n",
              "    <tr>\n",
              "      <th>6</th>\n",
              "      <td>7</td>\n",
              "      <td>Andrew Jackson</td>\n",
              "      <td>185</td>\n",
              "    </tr>\n",
              "    <tr>\n",
              "      <th>7</th>\n",
              "      <td>8</td>\n",
              "      <td>Martin Van Buren</td>\n",
              "      <td>168</td>\n",
              "    </tr>\n",
              "    <tr>\n",
              "      <th>8</th>\n",
              "      <td>9</td>\n",
              "      <td>William Henry Harrison</td>\n",
              "      <td>173</td>\n",
              "    </tr>\n",
              "    <tr>\n",
              "      <th>9</th>\n",
              "      <td>10</td>\n",
              "      <td>John Tyler</td>\n",
              "      <td>183</td>\n",
              "    </tr>\n",
              "    <tr>\n",
              "      <th>10</th>\n",
              "      <td>11</td>\n",
              "      <td>James K. Polk</td>\n",
              "      <td>173</td>\n",
              "    </tr>\n",
              "    <tr>\n",
              "      <th>11</th>\n",
              "      <td>12</td>\n",
              "      <td>Zachary Taylor</td>\n",
              "      <td>173</td>\n",
              "    </tr>\n",
              "    <tr>\n",
              "      <th>12</th>\n",
              "      <td>13</td>\n",
              "      <td>Millard Fillmore</td>\n",
              "      <td>175</td>\n",
              "    </tr>\n",
              "    <tr>\n",
              "      <th>13</th>\n",
              "      <td>14</td>\n",
              "      <td>Franklin Pierce</td>\n",
              "      <td>178</td>\n",
              "    </tr>\n",
              "    <tr>\n",
              "      <th>14</th>\n",
              "      <td>15</td>\n",
              "      <td>James Buchanan</td>\n",
              "      <td>183</td>\n",
              "    </tr>\n",
              "    <tr>\n",
              "      <th>15</th>\n",
              "      <td>16</td>\n",
              "      <td>Abraham Lincoln</td>\n",
              "      <td>193</td>\n",
              "    </tr>\n",
              "    <tr>\n",
              "      <th>16</th>\n",
              "      <td>17</td>\n",
              "      <td>Andrew Johnson</td>\n",
              "      <td>178</td>\n",
              "    </tr>\n",
              "    <tr>\n",
              "      <th>17</th>\n",
              "      <td>18</td>\n",
              "      <td>Ulysses S. Grant</td>\n",
              "      <td>173</td>\n",
              "    </tr>\n",
              "    <tr>\n",
              "      <th>18</th>\n",
              "      <td>19</td>\n",
              "      <td>Rutherford B. Hayes</td>\n",
              "      <td>174</td>\n",
              "    </tr>\n",
              "    <tr>\n",
              "      <th>19</th>\n",
              "      <td>20</td>\n",
              "      <td>James A. Garfield</td>\n",
              "      <td>183</td>\n",
              "    </tr>\n",
              "    <tr>\n",
              "      <th>20</th>\n",
              "      <td>21</td>\n",
              "      <td>Chester A. Arthur</td>\n",
              "      <td>183</td>\n",
              "    </tr>\n",
              "    <tr>\n",
              "      <th>21</th>\n",
              "      <td>23</td>\n",
              "      <td>Benjamin Harrison</td>\n",
              "      <td>168</td>\n",
              "    </tr>\n",
              "    <tr>\n",
              "      <th>22</th>\n",
              "      <td>25</td>\n",
              "      <td>William McKinley</td>\n",
              "      <td>170</td>\n",
              "    </tr>\n",
              "    <tr>\n",
              "      <th>23</th>\n",
              "      <td>26</td>\n",
              "      <td>Theodore Roosevelt</td>\n",
              "      <td>178</td>\n",
              "    </tr>\n",
              "    <tr>\n",
              "      <th>24</th>\n",
              "      <td>27</td>\n",
              "      <td>William Howard Taft</td>\n",
              "      <td>182</td>\n",
              "    </tr>\n",
              "    <tr>\n",
              "      <th>25</th>\n",
              "      <td>28</td>\n",
              "      <td>Woodrow Wilson</td>\n",
              "      <td>180</td>\n",
              "    </tr>\n",
              "  </tbody>\n",
              "</table>\n",
              "</div>"
            ],
            "text/plain": [
              "    order                    name  height(cm)\n",
              "2       3        Thomas Jefferson         189\n",
              "3       4           James Madison         163\n",
              "4       5            James Monroe         183\n",
              "5       6       John Quincy Adams         171\n",
              "6       7          Andrew Jackson         185\n",
              "7       8        Martin Van Buren         168\n",
              "8       9  William Henry Harrison         173\n",
              "9      10              John Tyler         183\n",
              "10     11           James K. Polk         173\n",
              "11     12          Zachary Taylor         173\n",
              "12     13        Millard Fillmore         175\n",
              "13     14         Franklin Pierce         178\n",
              "14     15          James Buchanan         183\n",
              "15     16         Abraham Lincoln         193\n",
              "16     17          Andrew Johnson         178\n",
              "17     18        Ulysses S. Grant         173\n",
              "18     19     Rutherford B. Hayes         174\n",
              "19     20       James A. Garfield         183\n",
              "20     21       Chester A. Arthur         183\n",
              "21     23       Benjamin Harrison         168\n",
              "22     25        William McKinley         170\n",
              "23     26      Theodore Roosevelt         178\n",
              "24     27     William Howard Taft         182\n",
              "25     28          Woodrow Wilson         180"
            ]
          },
          "metadata": {
            "tags": []
          },
          "execution_count": 139
        }
      ]
    },
    {
      "cell_type": "code",
      "metadata": {
        "colab": {
          "base_uri": "https://localhost:8080/",
          "height": 669
        },
        "id": "EkgUxeIoHSE_",
        "outputId": "cd5c148b-8ec5-4fee-de3b-bd0b724e8e32"
      },
      "source": [
        "pre.head(20)"
      ],
      "execution_count": 140,
      "outputs": [
        {
          "output_type": "execute_result",
          "data": {
            "text/html": [
              "<div>\n",
              "<style scoped>\n",
              "    .dataframe tbody tr th:only-of-type {\n",
              "        vertical-align: middle;\n",
              "    }\n",
              "\n",
              "    .dataframe tbody tr th {\n",
              "        vertical-align: top;\n",
              "    }\n",
              "\n",
              "    .dataframe thead th {\n",
              "        text-align: right;\n",
              "    }\n",
              "</style>\n",
              "<table border=\"1\" class=\"dataframe\">\n",
              "  <thead>\n",
              "    <tr style=\"text-align: right;\">\n",
              "      <th></th>\n",
              "      <th>order</th>\n",
              "      <th>name</th>\n",
              "      <th>height(cm)</th>\n",
              "    </tr>\n",
              "  </thead>\n",
              "  <tbody>\n",
              "    <tr>\n",
              "      <th>0</th>\n",
              "      <td>1</td>\n",
              "      <td>George Washington</td>\n",
              "      <td>189</td>\n",
              "    </tr>\n",
              "    <tr>\n",
              "      <th>1</th>\n",
              "      <td>2</td>\n",
              "      <td>John Adams</td>\n",
              "      <td>170</td>\n",
              "    </tr>\n",
              "    <tr>\n",
              "      <th>2</th>\n",
              "      <td>3</td>\n",
              "      <td>Thomas Jefferson</td>\n",
              "      <td>189</td>\n",
              "    </tr>\n",
              "    <tr>\n",
              "      <th>3</th>\n",
              "      <td>4</td>\n",
              "      <td>James Madison</td>\n",
              "      <td>163</td>\n",
              "    </tr>\n",
              "    <tr>\n",
              "      <th>4</th>\n",
              "      <td>5</td>\n",
              "      <td>James Monroe</td>\n",
              "      <td>183</td>\n",
              "    </tr>\n",
              "    <tr>\n",
              "      <th>5</th>\n",
              "      <td>6</td>\n",
              "      <td>John Quincy Adams</td>\n",
              "      <td>171</td>\n",
              "    </tr>\n",
              "    <tr>\n",
              "      <th>6</th>\n",
              "      <td>7</td>\n",
              "      <td>Andrew Jackson</td>\n",
              "      <td>185</td>\n",
              "    </tr>\n",
              "    <tr>\n",
              "      <th>7</th>\n",
              "      <td>8</td>\n",
              "      <td>Martin Van Buren</td>\n",
              "      <td>168</td>\n",
              "    </tr>\n",
              "    <tr>\n",
              "      <th>8</th>\n",
              "      <td>9</td>\n",
              "      <td>William Henry Harrison</td>\n",
              "      <td>173</td>\n",
              "    </tr>\n",
              "    <tr>\n",
              "      <th>9</th>\n",
              "      <td>10</td>\n",
              "      <td>John Tyler</td>\n",
              "      <td>183</td>\n",
              "    </tr>\n",
              "    <tr>\n",
              "      <th>10</th>\n",
              "      <td>11</td>\n",
              "      <td>James K. Polk</td>\n",
              "      <td>173</td>\n",
              "    </tr>\n",
              "    <tr>\n",
              "      <th>11</th>\n",
              "      <td>12</td>\n",
              "      <td>Zachary Taylor</td>\n",
              "      <td>173</td>\n",
              "    </tr>\n",
              "    <tr>\n",
              "      <th>12</th>\n",
              "      <td>13</td>\n",
              "      <td>Millard Fillmore</td>\n",
              "      <td>175</td>\n",
              "    </tr>\n",
              "    <tr>\n",
              "      <th>13</th>\n",
              "      <td>14</td>\n",
              "      <td>Franklin Pierce</td>\n",
              "      <td>178</td>\n",
              "    </tr>\n",
              "    <tr>\n",
              "      <th>14</th>\n",
              "      <td>15</td>\n",
              "      <td>James Buchanan</td>\n",
              "      <td>183</td>\n",
              "    </tr>\n",
              "    <tr>\n",
              "      <th>15</th>\n",
              "      <td>16</td>\n",
              "      <td>Abraham Lincoln</td>\n",
              "      <td>193</td>\n",
              "    </tr>\n",
              "    <tr>\n",
              "      <th>16</th>\n",
              "      <td>17</td>\n",
              "      <td>Andrew Johnson</td>\n",
              "      <td>178</td>\n",
              "    </tr>\n",
              "    <tr>\n",
              "      <th>17</th>\n",
              "      <td>18</td>\n",
              "      <td>Ulysses S. Grant</td>\n",
              "      <td>173</td>\n",
              "    </tr>\n",
              "    <tr>\n",
              "      <th>18</th>\n",
              "      <td>19</td>\n",
              "      <td>Rutherford B. Hayes</td>\n",
              "      <td>174</td>\n",
              "    </tr>\n",
              "    <tr>\n",
              "      <th>19</th>\n",
              "      <td>20</td>\n",
              "      <td>James A. Garfield</td>\n",
              "      <td>183</td>\n",
              "    </tr>\n",
              "  </tbody>\n",
              "</table>\n",
              "</div>"
            ],
            "text/plain": [
              "    order                    name  height(cm)\n",
              "0       1       George Washington         189\n",
              "1       2              John Adams         170\n",
              "2       3        Thomas Jefferson         189\n",
              "3       4           James Madison         163\n",
              "4       5            James Monroe         183\n",
              "5       6       John Quincy Adams         171\n",
              "6       7          Andrew Jackson         185\n",
              "7       8        Martin Van Buren         168\n",
              "8       9  William Henry Harrison         173\n",
              "9      10              John Tyler         183\n",
              "10     11           James K. Polk         173\n",
              "11     12          Zachary Taylor         173\n",
              "12     13        Millard Fillmore         175\n",
              "13     14         Franklin Pierce         178\n",
              "14     15          James Buchanan         183\n",
              "15     16         Abraham Lincoln         193\n",
              "16     17          Andrew Johnson         178\n",
              "17     18        Ulysses S. Grant         173\n",
              "18     19     Rutherford B. Hayes         174\n",
              "19     20       James A. Garfield         183"
            ]
          },
          "metadata": {
            "tags": []
          },
          "execution_count": 140
        }
      ]
    },
    {
      "cell_type": "code",
      "metadata": {
        "colab": {
          "base_uri": "https://localhost:8080/"
        },
        "id": "yYH2mWEDHVmb",
        "outputId": "1691b4d8-287d-41aa-9396-634d6cc9433f"
      },
      "source": [
        "pre['name'].iloc[2:5]"
      ],
      "execution_count": 141,
      "outputs": [
        {
          "output_type": "execute_result",
          "data": {
            "text/plain": [
              "2    Thomas Jefferson\n",
              "3       James Madison\n",
              "4        James Monroe\n",
              "Name: name, dtype: object"
            ]
          },
          "metadata": {
            "tags": []
          },
          "execution_count": 141
        }
      ]
    },
    {
      "cell_type": "code",
      "metadata": {
        "colab": {
          "base_uri": "https://localhost:8080/"
        },
        "id": "HsGu1YOYHeDt",
        "outputId": "1f5bf25b-5f8b-4a5e-8a2a-1985014a8da2"
      },
      "source": [
        "pre['height(cm)'].loc[2:5]"
      ],
      "execution_count": 142,
      "outputs": [
        {
          "output_type": "execute_result",
          "data": {
            "text/plain": [
              "2    189\n",
              "3    163\n",
              "4    183\n",
              "5    171\n",
              "Name: height(cm), dtype: int64"
            ]
          },
          "metadata": {
            "tags": []
          },
          "execution_count": 142
        }
      ]
    },
    {
      "cell_type": "code",
      "metadata": {
        "colab": {
          "base_uri": "https://localhost:8080/"
        },
        "id": "5mILhgKbHjyt",
        "outputId": "101faead-7c90-487c-e71c-b3a09d9fc9e1"
      },
      "source": [
        "pre.mean()"
      ],
      "execution_count": 148,
      "outputs": [
        {
          "output_type": "execute_result",
          "data": {
            "text/plain": [
              "order          22.476190\n",
              "height(cm)    179.738095\n",
              "dtype: float64"
            ]
          },
          "metadata": {
            "tags": []
          },
          "execution_count": 148
        }
      ]
    },
    {
      "cell_type": "code",
      "metadata": {
        "colab": {
          "base_uri": "https://localhost:8080/"
        },
        "id": "OCeWFGDhHwrX",
        "outputId": "f73a15e8-805d-4d15-a2ec-2da352062971"
      },
      "source": [
        "pre.median()"
      ],
      "execution_count": 149,
      "outputs": [
        {
          "output_type": "execute_result",
          "data": {
            "text/plain": [
              "order          22.0\n",
              "height(cm)    182.0\n",
              "dtype: float64"
            ]
          },
          "metadata": {
            "tags": []
          },
          "execution_count": 149
        }
      ]
    },
    {
      "cell_type": "code",
      "metadata": {
        "colab": {
          "base_uri": "https://localhost:8080/"
        },
        "id": "Yqw6v98KIlql",
        "outputId": "e9b13c18-35df-488d-a23c-ed5ab3bfbd2f"
      },
      "source": [
        "pre['height(cm)']<=150"
      ],
      "execution_count": 153,
      "outputs": [
        {
          "output_type": "execute_result",
          "data": {
            "text/plain": [
              "0     False\n",
              "1     False\n",
              "2     False\n",
              "3     False\n",
              "4     False\n",
              "5     False\n",
              "6     False\n",
              "7     False\n",
              "8     False\n",
              "9     False\n",
              "10    False\n",
              "11    False\n",
              "12    False\n",
              "13    False\n",
              "14    False\n",
              "15    False\n",
              "16    False\n",
              "17    False\n",
              "18    False\n",
              "19    False\n",
              "20    False\n",
              "21    False\n",
              "22    False\n",
              "23    False\n",
              "24    False\n",
              "25    False\n",
              "26    False\n",
              "27    False\n",
              "28    False\n",
              "29    False\n",
              "30    False\n",
              "31    False\n",
              "32    False\n",
              "33    False\n",
              "34    False\n",
              "35    False\n",
              "36    False\n",
              "37    False\n",
              "38    False\n",
              "39    False\n",
              "40    False\n",
              "41    False\n",
              "Name: height(cm), dtype: bool"
            ]
          },
          "metadata": {
            "tags": []
          },
          "execution_count": 153
        }
      ]
    },
    {
      "cell_type": "code",
      "metadata": {
        "colab": {
          "base_uri": "https://localhost:8080/",
          "height": 316
        },
        "id": "oaFDW-0wLryp",
        "outputId": "c014a282-462e-4716-994e-c970c496dae0"
      },
      "source": [
        "plt.hist(pre['height(cm)'])"
      ],
      "execution_count": 170,
      "outputs": [
        {
          "output_type": "execute_result",
          "data": {
            "text/plain": [
              "(array([ 1.,  2.,  3.,  5.,  3.,  6., 12.,  3.,  5.,  2.]),\n",
              " array([163., 166., 169., 172., 175., 178., 181., 184., 187., 190., 193.]),\n",
              " <a list of 10 Patch objects>)"
            ]
          },
          "metadata": {
            "tags": []
          },
          "execution_count": 170
        },
        {
          "output_type": "display_data",
          "data": {
            "image/png": "[encoded data removed]",
            "text/plain": [
              "<Figure size 432x288 with 1 Axes>"
            ]
          },
          "metadata": {
            "tags": [],
            "needs_background": "light"
          }
        }
      ]
    },
    {
      "cell_type": "markdown",
      "metadata": {
        "id": "RNHHvwu3JJ5E"
      },
      "source": [
        "**Data Cleaning**"
      ]
    },
    {
      "cell_type": "code",
      "metadata": {
        "colab": {
          "base_uri": "https://localhost:8080/"
        },
        "id": "Hg3GQKXcIt40",
        "outputId": "0c428502-5739-4306-e7d1-447d814bcf41"
      },
      "source": [
        "dict1={2019:[85,73,80,64],2020:[60,80,58,96],2021:[90,64,74,54]}\n",
        "df1=pd.DataFrame(dict1,index=['eng','math','science','french'])\n",
        "print(df1)\n"
      ],
      "execution_count": 158,
      "outputs": [
        {
          "output_type": "stream",
          "text": [
            "         2019  2020  2021\n",
            "eng        85    60    90\n",
            "math       73    80    64\n",
            "science    80    58    74\n",
            "french     64    96    54\n"
          ],
          "name": "stdout"
        }
      ]
    },
    {
      "cell_type": "code",
      "metadata": {
        "colab": {
          "base_uri": "https://localhost:8080/"
        },
        "id": "2wQVio_gKHbq",
        "outputId": "5e493211-ad52-4414-8fb3-1458f48d633b"
      },
      "source": [
        "print(\"value check kre ga nan value hogi toh true krega\",df1.isna())"
      ],
      "execution_count": 159,
      "outputs": [
        {
          "output_type": "stream",
          "text": [
            "value check kre ga nan value hogi toh true krega           2019   2020   2021\n",
            "eng      False  False  False\n",
            "math     False  False  False\n",
            "science  False  False  False\n",
            "french   False  False  False\n"
          ],
          "name": "stdout"
        }
      ]
    },
    {
      "cell_type": "code",
      "metadata": {
        "colab": {
          "base_uri": "https://localhost:8080/"
        },
        "id": "KIW-vlwKKU1c",
        "outputId": "8e2c9230-4b3b-48bc-f765-a1b6457835b4"
      },
      "source": [
        "print(\"data frame empty hai ki nhi check krega\",df1.empty)"
      ],
      "execution_count": 160,
      "outputs": [
        {
          "output_type": "stream",
          "text": [
            "data frame empty hai ki nhi check krega False\n"
          ],
          "name": "stdout"
        }
      ]
    },
    {
      "cell_type": "code",
      "metadata": {
        "colab": {
          "base_uri": "https://localhost:8080/"
        },
        "id": "gAvJ0ql4KigE",
        "outputId": "51a7b49f-4fda-4aee-9017-8028c274e072"
      },
      "source": [
        "dict1={2019:[85,73,80,64],2020:[60,80,58,np.nan],2021:[90,64,74,None]}\n",
        "df1=pd.DataFrame(dict1,index=['eng','math','science','french'])\n",
        "print(df1)"
      ],
      "execution_count": 161,
      "outputs": [
        {
          "output_type": "stream",
          "text": [
            "         2019  2020  2021\n",
            "eng        85  60.0  90.0\n",
            "math       73  80.0  64.0\n",
            "science    80  58.0  74.0\n",
            "french     64   NaN   NaN\n"
          ],
          "name": "stdout"
        }
      ]
    },
    {
      "cell_type": "code",
      "metadata": {
        "colab": {
          "base_uri": "https://localhost:8080/",
          "height": 173
        },
        "id": "BhqyCT-CK18r",
        "outputId": "117d25f9-da51-4a16-df7c-4652e44b4bb1"
      },
      "source": [
        "df1.isna()"
      ],
      "execution_count": 162,
      "outputs": [
        {
          "output_type": "execute_result",
          "data": {
            "text/html": [
              "<div>\n",
              "<style scoped>\n",
              "    .dataframe tbody tr th:only-of-type {\n",
              "        vertical-align: middle;\n",
              "    }\n",
              "\n",
              "    .dataframe tbody tr th {\n",
              "        vertical-align: top;\n",
              "    }\n",
              "\n",
              "    .dataframe thead th {\n",
              "        text-align: right;\n",
              "    }\n",
              "</style>\n",
              "<table border=\"1\" class=\"dataframe\">\n",
              "  <thead>\n",
              "    <tr style=\"text-align: right;\">\n",
              "      <th></th>\n",
              "      <th>2019</th>\n",
              "      <th>2020</th>\n",
              "      <th>2021</th>\n",
              "    </tr>\n",
              "  </thead>\n",
              "  <tbody>\n",
              "    <tr>\n",
              "      <th>eng</th>\n",
              "      <td>False</td>\n",
              "      <td>False</td>\n",
              "      <td>False</td>\n",
              "    </tr>\n",
              "    <tr>\n",
              "      <th>math</th>\n",
              "      <td>False</td>\n",
              "      <td>False</td>\n",
              "      <td>False</td>\n",
              "    </tr>\n",
              "    <tr>\n",
              "      <th>science</th>\n",
              "      <td>False</td>\n",
              "      <td>False</td>\n",
              "      <td>False</td>\n",
              "    </tr>\n",
              "    <tr>\n",
              "      <th>french</th>\n",
              "      <td>False</td>\n",
              "      <td>True</td>\n",
              "      <td>True</td>\n",
              "    </tr>\n",
              "  </tbody>\n",
              "</table>\n",
              "</div>"
            ],
            "text/plain": [
              "          2019   2020   2021\n",
              "eng      False  False  False\n",
              "math     False  False  False\n",
              "science  False  False  False\n",
              "french   False   True   True"
            ]
          },
          "metadata": {
            "tags": []
          },
          "execution_count": 162
        }
      ]
    },
    {
      "cell_type": "code",
      "metadata": {
        "colab": {
          "base_uri": "https://localhost:8080/",
          "height": 173
        },
        "id": "NxAdHlEIK-kX",
        "outputId": "770e299e-92bd-47c6-d1bc-2893060892dd"
      },
      "source": [
        "df1.isnull()"
      ],
      "execution_count": 164,
      "outputs": [
        {
          "output_type": "execute_result",
          "data": {
            "text/html": [
              "<div>\n",
              "<style scoped>\n",
              "    .dataframe tbody tr th:only-of-type {\n",
              "        vertical-align: middle;\n",
              "    }\n",
              "\n",
              "    .dataframe tbody tr th {\n",
              "        vertical-align: top;\n",
              "    }\n",
              "\n",
              "    .dataframe thead th {\n",
              "        text-align: right;\n",
              "    }\n",
              "</style>\n",
              "<table border=\"1\" class=\"dataframe\">\n",
              "  <thead>\n",
              "    <tr style=\"text-align: right;\">\n",
              "      <th></th>\n",
              "      <th>2019</th>\n",
              "      <th>2020</th>\n",
              "      <th>2021</th>\n",
              "    </tr>\n",
              "  </thead>\n",
              "  <tbody>\n",
              "    <tr>\n",
              "      <th>eng</th>\n",
              "      <td>False</td>\n",
              "      <td>False</td>\n",
              "      <td>False</td>\n",
              "    </tr>\n",
              "    <tr>\n",
              "      <th>math</th>\n",
              "      <td>False</td>\n",
              "      <td>False</td>\n",
              "      <td>False</td>\n",
              "    </tr>\n",
              "    <tr>\n",
              "      <th>science</th>\n",
              "      <td>False</td>\n",
              "      <td>False</td>\n",
              "      <td>False</td>\n",
              "    </tr>\n",
              "    <tr>\n",
              "      <th>french</th>\n",
              "      <td>False</td>\n",
              "      <td>True</td>\n",
              "      <td>True</td>\n",
              "    </tr>\n",
              "  </tbody>\n",
              "</table>\n",
              "</div>"
            ],
            "text/plain": [
              "          2019   2020   2021\n",
              "eng      False  False  False\n",
              "math     False  False  False\n",
              "science  False  False  False\n",
              "french   False   True   True"
            ]
          },
          "metadata": {
            "tags": []
          },
          "execution_count": 164
        }
      ]
    },
    {
      "cell_type": "code",
      "metadata": {
        "colab": {
          "base_uri": "https://localhost:8080/",
          "height": 173
        },
        "id": "0IKL_tljLJa4",
        "outputId": "4112c031-0724-453d-ef86-14dfcc814e0c"
      },
      "source": [
        "df1.notnull()"
      ],
      "execution_count": 165,
      "outputs": [
        {
          "output_type": "execute_result",
          "data": {
            "text/html": [
              "<div>\n",
              "<style scoped>\n",
              "    .dataframe tbody tr th:only-of-type {\n",
              "        vertical-align: middle;\n",
              "    }\n",
              "\n",
              "    .dataframe tbody tr th {\n",
              "        vertical-align: top;\n",
              "    }\n",
              "\n",
              "    .dataframe thead th {\n",
              "        text-align: right;\n",
              "    }\n",
              "</style>\n",
              "<table border=\"1\" class=\"dataframe\">\n",
              "  <thead>\n",
              "    <tr style=\"text-align: right;\">\n",
              "      <th></th>\n",
              "      <th>2019</th>\n",
              "      <th>2020</th>\n",
              "      <th>2021</th>\n",
              "    </tr>\n",
              "  </thead>\n",
              "  <tbody>\n",
              "    <tr>\n",
              "      <th>eng</th>\n",
              "      <td>True</td>\n",
              "      <td>True</td>\n",
              "      <td>True</td>\n",
              "    </tr>\n",
              "    <tr>\n",
              "      <th>math</th>\n",
              "      <td>True</td>\n",
              "      <td>True</td>\n",
              "      <td>True</td>\n",
              "    </tr>\n",
              "    <tr>\n",
              "      <th>science</th>\n",
              "      <td>True</td>\n",
              "      <td>True</td>\n",
              "      <td>True</td>\n",
              "    </tr>\n",
              "    <tr>\n",
              "      <th>french</th>\n",
              "      <td>True</td>\n",
              "      <td>False</td>\n",
              "      <td>False</td>\n",
              "    </tr>\n",
              "  </tbody>\n",
              "</table>\n",
              "</div>"
            ],
            "text/plain": [
              "         2019   2020   2021\n",
              "eng      True   True   True\n",
              "math     True   True   True\n",
              "science  True   True   True\n",
              "french   True  False  False"
            ]
          },
          "metadata": {
            "tags": []
          },
          "execution_count": 165
        }
      ]
    },
    {
      "cell_type": "code",
      "metadata": {
        "colab": {
          "base_uri": "https://localhost:8080/",
          "height": 142
        },
        "id": "WB8tDIQ8LQYz",
        "outputId": "26824ddc-2ccd-47b2-dba1-146078a45dff"
      },
      "source": [
        "df1.dropna() #Cleaning the Data"
      ],
      "execution_count": 168,
      "outputs": [
        {
          "output_type": "execute_result",
          "data": {
            "text/html": [
              "<div>\n",
              "<style scoped>\n",
              "    .dataframe tbody tr th:only-of-type {\n",
              "        vertical-align: middle;\n",
              "    }\n",
              "\n",
              "    .dataframe tbody tr th {\n",
              "        vertical-align: top;\n",
              "    }\n",
              "\n",
              "    .dataframe thead th {\n",
              "        text-align: right;\n",
              "    }\n",
              "</style>\n",
              "<table border=\"1\" class=\"dataframe\">\n",
              "  <thead>\n",
              "    <tr style=\"text-align: right;\">\n",
              "      <th></th>\n",
              "      <th>2019</th>\n",
              "      <th>2020</th>\n",
              "      <th>2021</th>\n",
              "    </tr>\n",
              "  </thead>\n",
              "  <tbody>\n",
              "    <tr>\n",
              "      <th>eng</th>\n",
              "      <td>85</td>\n",
              "      <td>60.0</td>\n",
              "      <td>90.0</td>\n",
              "    </tr>\n",
              "    <tr>\n",
              "      <th>math</th>\n",
              "      <td>73</td>\n",
              "      <td>80.0</td>\n",
              "      <td>64.0</td>\n",
              "    </tr>\n",
              "    <tr>\n",
              "      <th>science</th>\n",
              "      <td>80</td>\n",
              "      <td>58.0</td>\n",
              "      <td>74.0</td>\n",
              "    </tr>\n",
              "  </tbody>\n",
              "</table>\n",
              "</div>"
            ],
            "text/plain": [
              "         2019  2020  2021\n",
              "eng        85  60.0  90.0\n",
              "math       73  80.0  64.0\n",
              "science    80  58.0  74.0"
            ]
          },
          "metadata": {
            "tags": []
          },
          "execution_count": 168
        }
      ]
    },
    {
      "cell_type": "code",
      "metadata": {
        "colab": {
          "base_uri": "https://localhost:8080/",
          "height": 173
        },
        "id": "I8yEmLvJLThq",
        "outputId": "0aac8ad2-61b4-4985-e892-be985d72d33f"
      },
      "source": [
        "df1.fillna(0)"
      ],
      "execution_count": 169,
      "outputs": [
        {
          "output_type": "execute_result",
          "data": {
            "text/html": [
              "<div>\n",
              "<style scoped>\n",
              "    .dataframe tbody tr th:only-of-type {\n",
              "        vertical-align: middle;\n",
              "    }\n",
              "\n",
              "    .dataframe tbody tr th {\n",
              "        vertical-align: top;\n",
              "    }\n",
              "\n",
              "    .dataframe thead th {\n",
              "        text-align: right;\n",
              "    }\n",
              "</style>\n",
              "<table border=\"1\" class=\"dataframe\">\n",
              "  <thead>\n",
              "    <tr style=\"text-align: right;\">\n",
              "      <th></th>\n",
              "      <th>2019</th>\n",
              "      <th>2020</th>\n",
              "      <th>2021</th>\n",
              "    </tr>\n",
              "  </thead>\n",
              "  <tbody>\n",
              "    <tr>\n",
              "      <th>eng</th>\n",
              "      <td>85</td>\n",
              "      <td>60.0</td>\n",
              "      <td>90.0</td>\n",
              "    </tr>\n",
              "    <tr>\n",
              "      <th>math</th>\n",
              "      <td>73</td>\n",
              "      <td>80.0</td>\n",
              "      <td>64.0</td>\n",
              "    </tr>\n",
              "    <tr>\n",
              "      <th>science</th>\n",
              "      <td>80</td>\n",
              "      <td>58.0</td>\n",
              "      <td>74.0</td>\n",
              "    </tr>\n",
              "    <tr>\n",
              "      <th>french</th>\n",
              "      <td>64</td>\n",
              "      <td>0.0</td>\n",
              "      <td>0.0</td>\n",
              "    </tr>\n",
              "  </tbody>\n",
              "</table>\n",
              "</div>"
            ],
            "text/plain": [
              "         2019  2020  2021\n",
              "eng        85  60.0  90.0\n",
              "math       73  80.0  64.0\n",
              "science    80  58.0  74.0\n",
              "french     64   0.0   0.0"
            ]
          },
          "metadata": {
            "tags": []
          },
          "execution_count": 169
        }
      ]
    },
    {
      "cell_type": "markdown",
      "metadata": {
        "id": "jEr4nppjMX2X"
      },
      "source": [
        "**Data Aggregation**\n",
        "\n",
        "Data aggregation is the compiling of information from databases with intent to prepare combined datasets for data processing."
      ]
    },
    {
      "cell_type": "code",
      "metadata": {
        "colab": {
          "base_uri": "https://localhost:8080/",
          "height": 1000
        },
        "id": "RbAIwlkgLgdb",
        "outputId": "6ed7173e-6fea-4b0b-c9c4-4fa791fa62b2"
      },
      "source": [
        "add_data=pd.read_csv('/content/president_heights.csv')\n",
        "add_data"
      ],
      "execution_count": 171,
      "outputs": [
        {
          "output_type": "execute_result",
          "data": {
            "text/html": [
              "<div>\n",
              "<style scoped>\n",
              "    .dataframe tbody tr th:only-of-type {\n",
              "        vertical-align: middle;\n",
              "    }\n",
              "\n",
              "    .dataframe tbody tr th {\n",
              "        vertical-align: top;\n",
              "    }\n",
              "\n",
              "    .dataframe thead th {\n",
              "        text-align: right;\n",
              "    }\n",
              "</style>\n",
              "<table border=\"1\" class=\"dataframe\">\n",
              "  <thead>\n",
              "    <tr style=\"text-align: right;\">\n",
              "      <th></th>\n",
              "      <th>order</th>\n",
              "      <th>name</th>\n",
              "      <th>height(cm)</th>\n",
              "    </tr>\n",
              "  </thead>\n",
              "  <tbody>\n",
              "    <tr>\n",
              "      <th>0</th>\n",
              "      <td>1</td>\n",
              "      <td>George Washington</td>\n",
              "      <td>189</td>\n",
              "    </tr>\n",
              "    <tr>\n",
              "      <th>1</th>\n",
              "      <td>2</td>\n",
              "      <td>John Adams</td>\n",
              "      <td>170</td>\n",
              "    </tr>\n",
              "    <tr>\n",
              "      <th>2</th>\n",
              "      <td>3</td>\n",
              "      <td>Thomas Jefferson</td>\n",
              "      <td>189</td>\n",
              "    </tr>\n",
              "    <tr>\n",
              "      <th>3</th>\n",
              "      <td>4</td>\n",
              "      <td>James Madison</td>\n",
              "      <td>163</td>\n",
              "    </tr>\n",
              "    <tr>\n",
              "      <th>4</th>\n",
              "      <td>5</td>\n",
              "      <td>James Monroe</td>\n",
              "      <td>183</td>\n",
              "    </tr>\n",
              "    <tr>\n",
              "      <th>5</th>\n",
              "      <td>6</td>\n",
              "      <td>John Quincy Adams</td>\n",
              "      <td>171</td>\n",
              "    </tr>\n",
              "    <tr>\n",
              "      <th>6</th>\n",
              "      <td>7</td>\n",
              "      <td>Andrew Jackson</td>\n",
              "      <td>185</td>\n",
              "    </tr>\n",
              "    <tr>\n",
              "      <th>7</th>\n",
              "      <td>8</td>\n",
              "      <td>Martin Van Buren</td>\n",
              "      <td>168</td>\n",
              "    </tr>\n",
              "    <tr>\n",
              "      <th>8</th>\n",
              "      <td>9</td>\n",
              "      <td>William Henry Harrison</td>\n",
              "      <td>173</td>\n",
              "    </tr>\n",
              "    <tr>\n",
              "      <th>9</th>\n",
              "      <td>10</td>\n",
              "      <td>John Tyler</td>\n",
              "      <td>183</td>\n",
              "    </tr>\n",
              "    <tr>\n",
              "      <th>10</th>\n",
              "      <td>11</td>\n",
              "      <td>James K. Polk</td>\n",
              "      <td>173</td>\n",
              "    </tr>\n",
              "    <tr>\n",
              "      <th>11</th>\n",
              "      <td>12</td>\n",
              "      <td>Zachary Taylor</td>\n",
              "      <td>173</td>\n",
              "    </tr>\n",
              "    <tr>\n",
              "      <th>12</th>\n",
              "      <td>13</td>\n",
              "      <td>Millard Fillmore</td>\n",
              "      <td>175</td>\n",
              "    </tr>\n",
              "    <tr>\n",
              "      <th>13</th>\n",
              "      <td>14</td>\n",
              "      <td>Franklin Pierce</td>\n",
              "      <td>178</td>\n",
              "    </tr>\n",
              "    <tr>\n",
              "      <th>14</th>\n",
              "      <td>15</td>\n",
              "      <td>James Buchanan</td>\n",
              "      <td>183</td>\n",
              "    </tr>\n",
              "    <tr>\n",
              "      <th>15</th>\n",
              "      <td>16</td>\n",
              "      <td>Abraham Lincoln</td>\n",
              "      <td>193</td>\n",
              "    </tr>\n",
              "    <tr>\n",
              "      <th>16</th>\n",
              "      <td>17</td>\n",
              "      <td>Andrew Johnson</td>\n",
              "      <td>178</td>\n",
              "    </tr>\n",
              "    <tr>\n",
              "      <th>17</th>\n",
              "      <td>18</td>\n",
              "      <td>Ulysses S. Grant</td>\n",
              "      <td>173</td>\n",
              "    </tr>\n",
              "    <tr>\n",
              "      <th>18</th>\n",
              "      <td>19</td>\n",
              "      <td>Rutherford B. Hayes</td>\n",
              "      <td>174</td>\n",
              "    </tr>\n",
              "    <tr>\n",
              "      <th>19</th>\n",
              "      <td>20</td>\n",
              "      <td>James A. Garfield</td>\n",
              "      <td>183</td>\n",
              "    </tr>\n",
              "    <tr>\n",
              "      <th>20</th>\n",
              "      <td>21</td>\n",
              "      <td>Chester A. Arthur</td>\n",
              "      <td>183</td>\n",
              "    </tr>\n",
              "    <tr>\n",
              "      <th>21</th>\n",
              "      <td>23</td>\n",
              "      <td>Benjamin Harrison</td>\n",
              "      <td>168</td>\n",
              "    </tr>\n",
              "    <tr>\n",
              "      <th>22</th>\n",
              "      <td>25</td>\n",
              "      <td>William McKinley</td>\n",
              "      <td>170</td>\n",
              "    </tr>\n",
              "    <tr>\n",
              "      <th>23</th>\n",
              "      <td>26</td>\n",
              "      <td>Theodore Roosevelt</td>\n",
              "      <td>178</td>\n",
              "    </tr>\n",
              "    <tr>\n",
              "      <th>24</th>\n",
              "      <td>27</td>\n",
              "      <td>William Howard Taft</td>\n",
              "      <td>182</td>\n",
              "    </tr>\n",
              "    <tr>\n",
              "      <th>25</th>\n",
              "      <td>28</td>\n",
              "      <td>Woodrow Wilson</td>\n",
              "      <td>180</td>\n",
              "    </tr>\n",
              "    <tr>\n",
              "      <th>26</th>\n",
              "      <td>29</td>\n",
              "      <td>Warren G. Harding</td>\n",
              "      <td>183</td>\n",
              "    </tr>\n",
              "    <tr>\n",
              "      <th>27</th>\n",
              "      <td>30</td>\n",
              "      <td>Calvin Coolidge</td>\n",
              "      <td>178</td>\n",
              "    </tr>\n",
              "    <tr>\n",
              "      <th>28</th>\n",
              "      <td>31</td>\n",
              "      <td>Herbert Hoover</td>\n",
              "      <td>182</td>\n",
              "    </tr>\n",
              "    <tr>\n",
              "      <th>29</th>\n",
              "      <td>32</td>\n",
              "      <td>Franklin D. Roosevelt</td>\n",
              "      <td>188</td>\n",
              "    </tr>\n",
              "    <tr>\n",
              "      <th>30</th>\n",
              "      <td>33</td>\n",
              "      <td>Harry S. Truman</td>\n",
              "      <td>175</td>\n",
              "    </tr>\n",
              "    <tr>\n",
              "      <th>31</th>\n",
              "      <td>34</td>\n",
              "      <td>Dwight D. Eisenhower</td>\n",
              "      <td>179</td>\n",
              "    </tr>\n",
              "    <tr>\n",
              "      <th>32</th>\n",
              "      <td>35</td>\n",
              "      <td>John F. Kennedy</td>\n",
              "      <td>183</td>\n",
              "    </tr>\n",
              "    <tr>\n",
              "      <th>33</th>\n",
              "      <td>36</td>\n",
              "      <td>Lyndon B. Johnson</td>\n",
              "      <td>193</td>\n",
              "    </tr>\n",
              "    <tr>\n",
              "      <th>34</th>\n",
              "      <td>37</td>\n",
              "      <td>Richard Nixon</td>\n",
              "      <td>182</td>\n",
              "    </tr>\n",
              "    <tr>\n",
              "      <th>35</th>\n",
              "      <td>38</td>\n",
              "      <td>Gerald Ford</td>\n",
              "      <td>183</td>\n",
              "    </tr>\n",
              "    <tr>\n",
              "      <th>36</th>\n",
              "      <td>39</td>\n",
              "      <td>Jimmy Carter</td>\n",
              "      <td>177</td>\n",
              "    </tr>\n",
              "    <tr>\n",
              "      <th>37</th>\n",
              "      <td>40</td>\n",
              "      <td>Ronald Reagan</td>\n",
              "      <td>185</td>\n",
              "    </tr>\n",
              "    <tr>\n",
              "      <th>38</th>\n",
              "      <td>41</td>\n",
              "      <td>George H. W. Bush</td>\n",
              "      <td>188</td>\n",
              "    </tr>\n",
              "    <tr>\n",
              "      <th>39</th>\n",
              "      <td>42</td>\n",
              "      <td>Bill Clinton</td>\n",
              "      <td>188</td>\n",
              "    </tr>\n",
              "    <tr>\n",
              "      <th>40</th>\n",
              "      <td>43</td>\n",
              "      <td>George W. Bush</td>\n",
              "      <td>182</td>\n",
              "    </tr>\n",
              "    <tr>\n",
              "      <th>41</th>\n",
              "      <td>44</td>\n",
              "      <td>Barack Obama</td>\n",
              "      <td>185</td>\n",
              "    </tr>\n",
              "  </tbody>\n",
              "</table>\n",
              "</div>"
            ],
            "text/plain": [
              "    order                    name  height(cm)\n",
              "0       1       George Washington         189\n",
              "1       2              John Adams         170\n",
              "2       3        Thomas Jefferson         189\n",
              "3       4           James Madison         163\n",
              "4       5            James Monroe         183\n",
              "5       6       John Quincy Adams         171\n",
              "6       7          Andrew Jackson         185\n",
              "7       8        Martin Van Buren         168\n",
              "8       9  William Henry Harrison         173\n",
              "9      10              John Tyler         183\n",
              "10     11           James K. Polk         173\n",
              "11     12          Zachary Taylor         173\n",
              "12     13        Millard Fillmore         175\n",
              "13     14         Franklin Pierce         178\n",
              "14     15          James Buchanan         183\n",
              "15     16         Abraham Lincoln         193\n",
              "16     17          Andrew Johnson         178\n",
              "17     18        Ulysses S. Grant         173\n",
              "18     19     Rutherford B. Hayes         174\n",
              "19     20       James A. Garfield         183\n",
              "20     21       Chester A. Arthur         183\n",
              "21     23       Benjamin Harrison         168\n",
              "22     25        William McKinley         170\n",
              "23     26      Theodore Roosevelt         178\n",
              "24     27     William Howard Taft         182\n",
              "25     28          Woodrow Wilson         180\n",
              "26     29       Warren G. Harding         183\n",
              "27     30         Calvin Coolidge         178\n",
              "28     31          Herbert Hoover         182\n",
              "29     32   Franklin D. Roosevelt         188\n",
              "30     33         Harry S. Truman         175\n",
              "31     34    Dwight D. Eisenhower         179\n",
              "32     35         John F. Kennedy         183\n",
              "33     36       Lyndon B. Johnson         193\n",
              "34     37           Richard Nixon         182\n",
              "35     38             Gerald Ford         183\n",
              "36     39            Jimmy Carter         177\n",
              "37     40           Ronald Reagan         185\n",
              "38     41       George H. W. Bush         188\n",
              "39     42            Bill Clinton         188\n",
              "40     43          George W. Bush         182\n",
              "41     44            Barack Obama         185"
            ]
          },
          "metadata": {
            "tags": []
          },
          "execution_count": 171
        }
      ]
    },
    {
      "cell_type": "code",
      "metadata": {
        "colab": {
          "base_uri": "https://localhost:8080/",
          "height": 173
        },
        "id": "mrt-TkgHMnf4",
        "outputId": "e0fb7e7a-8ff2-4a84-e918-b59a97fcef30"
      },
      "source": [
        "add_data.aggregate({\"order\":['sum','max', 'min','var'],\n",
        "                    \"height(cm)\":['sum','max', 'min','var']})"
      ],
      "execution_count": 176,
      "outputs": [
        {
          "output_type": "execute_result",
          "data": {
            "text/html": [
              "<div>\n",
              "<style scoped>\n",
              "    .dataframe tbody tr th:only-of-type {\n",
              "        vertical-align: middle;\n",
              "    }\n",
              "\n",
              "    .dataframe tbody tr th {\n",
              "        vertical-align: top;\n",
              "    }\n",
              "\n",
              "    .dataframe thead th {\n",
              "        text-align: right;\n",
              "    }\n",
              "</style>\n",
              "<table border=\"1\" class=\"dataframe\">\n",
              "  <thead>\n",
              "    <tr style=\"text-align: right;\">\n",
              "      <th></th>\n",
              "      <th>order</th>\n",
              "      <th>height(cm)</th>\n",
              "    </tr>\n",
              "  </thead>\n",
              "  <tbody>\n",
              "    <tr>\n",
              "      <th>sum</th>\n",
              "      <td>944.000000</td>\n",
              "      <td>7549.000000</td>\n",
              "    </tr>\n",
              "    <tr>\n",
              "      <th>max</th>\n",
              "      <td>44.000000</td>\n",
              "      <td>193.000000</td>\n",
              "    </tr>\n",
              "    <tr>\n",
              "      <th>min</th>\n",
              "      <td>1.000000</td>\n",
              "      <td>163.000000</td>\n",
              "    </tr>\n",
              "    <tr>\n",
              "      <th>var</th>\n",
              "      <td>172.987224</td>\n",
              "      <td>49.222416</td>\n",
              "    </tr>\n",
              "  </tbody>\n",
              "</table>\n",
              "</div>"
            ],
            "text/plain": [
              "          order   height(cm)\n",
              "sum  944.000000  7549.000000\n",
              "max   44.000000   193.000000\n",
              "min    1.000000   163.000000\n",
              "var  172.987224    49.222416"
            ]
          },
          "metadata": {
            "tags": []
          },
          "execution_count": 176
        }
      ]
    },
    {
      "cell_type": "code",
      "metadata": {
        "colab": {
          "base_uri": "https://localhost:8080/"
        },
        "id": "MUssZSn4NMM1",
        "outputId": "bf86bf7f-1ae8-45e6-8647-806ac598f92f"
      },
      "source": [
        "add_data.shape"
      ],
      "execution_count": 177,
      "outputs": [
        {
          "output_type": "execute_result",
          "data": {
            "text/plain": [
              "(42, 3)"
            ]
          },
          "metadata": {
            "tags": []
          },
          "execution_count": 177
        }
      ]
    },
    {
      "cell_type": "code",
      "metadata": {
        "colab": {
          "base_uri": "https://localhost:8080/"
        },
        "id": "K-_0_I19NsTb",
        "outputId": "541cfb37-f403-4227-a596-e95e24c92990"
      },
      "source": [
        "add_data.info"
      ],
      "execution_count": 178,
      "outputs": [
        {
          "output_type": "execute_result",
          "data": {
            "text/plain": [
              "<bound method DataFrame.info of     order                    name  height(cm)\n",
              "0       1       George Washington         189\n",
              "1       2              John Adams         170\n",
              "2       3        Thomas Jefferson         189\n",
              "3       4           James Madison         163\n",
              "4       5            James Monroe         183\n",
              "5       6       John Quincy Adams         171\n",
              "6       7          Andrew Jackson         185\n",
              "7       8        Martin Van Buren         168\n",
              "8       9  William Henry Harrison         173\n",
              "9      10              John Tyler         183\n",
              "10     11           James K. Polk         173\n",
              "11     12          Zachary Taylor         173\n",
              "12     13        Millard Fillmore         175\n",
              "13     14         Franklin Pierce         178\n",
              "14     15          James Buchanan         183\n",
              "15     16         Abraham Lincoln         193\n",
              "16     17          Andrew Johnson         178\n",
              "17     18        Ulysses S. Grant         173\n",
              "18     19     Rutherford B. Hayes         174\n",
              "19     20       James A. Garfield         183\n",
              "20     21       Chester A. Arthur         183\n",
              "21     23       Benjamin Harrison         168\n",
              "22     25        William McKinley         170\n",
              "23     26      Theodore Roosevelt         178\n",
              "24     27     William Howard Taft         182\n",
              "25     28          Woodrow Wilson         180\n",
              "26     29       Warren G. Harding         183\n",
              "27     30         Calvin Coolidge         178\n",
              "28     31          Herbert Hoover         182\n",
              "29     32   Franklin D. Roosevelt         188\n",
              "30     33         Harry S. Truman         175\n",
              "31     34    Dwight D. Eisenhower         179\n",
              "32     35         John F. Kennedy         183\n",
              "33     36       Lyndon B. Johnson         193\n",
              "34     37           Richard Nixon         182\n",
              "35     38             Gerald Ford         183\n",
              "36     39            Jimmy Carter         177\n",
              "37     40           Ronald Reagan         185\n",
              "38     41       George H. W. Bush         188\n",
              "39     42            Bill Clinton         188\n",
              "40     43          George W. Bush         182\n",
              "41     44            Barack Obama         185>"
            ]
          },
          "metadata": {
            "tags": []
          },
          "execution_count": 178
        }
      ]
    },
    {
      "cell_type": "code",
      "metadata": {
        "colab": {
          "base_uri": "https://localhost:8080/",
          "height": 35
        },
        "id": "5OKlBP1bNv5K",
        "outputId": "db40a526-ebd7-4f81-bde9-861bf22b4ebb"
      },
      "source": [
        "add_data['name'].iloc[40]"
      ],
      "execution_count": 186,
      "outputs": [
        {
          "output_type": "execute_result",
          "data": {
            "application/vnd.google.colaboratory.intrinsic+json": {
              "type": "string"
            },
            "text/plain": [
              "'Barack Obama'"
            ]
          },
          "metadata": {
            "tags": []
          },
          "execution_count": 186
        }
      ]
    },
    {
      "cell_type": "markdown",
      "metadata": {
        "id": "_Yd2kBTQPQBR"
      },
      "source": [
        "**Data Merging** \n",
        "\n",
        "**Only Comman data**"
      ]
    },
    {
      "cell_type": "code",
      "metadata": {
        "colab": {
          "base_uri": "https://localhost:8080/"
        },
        "id": "x3WAFVMeN6dx",
        "outputId": "48b1064b-ebce-4b9b-b69c-8cc4358b9fc2"
      },
      "source": [
        "dict1={'English':[85,73,98],'Maths':[60,80,58],'Science':[90,64,74],'French':[95,87,92],'Economic':[99,87,98]}\n",
        "df1=pd.DataFrame(dict1,index=['2018', '2019','2020'])\n",
        "print(df1)\n"
      ],
      "execution_count": 187,
      "outputs": [
        {
          "output_type": "stream",
          "text": [
            "      English  Maths  Science  French  Economic\n",
            "2018       85     60       90      95        99\n",
            "2019       73     80       64      87        87\n",
            "2020       98     58       74      92        98\n"
          ],
          "name": "stdout"
        }
      ]
    },
    {
      "cell_type": "code",
      "metadata": {
        "colab": {
          "base_uri": "https://localhost:8080/"
        },
        "id": "_bON2sY-QBLI",
        "outputId": "8d109f28-072d-45f4-ad0c-73e6e42638dc"
      },
      "source": [
        "dict2={'English':[85,73,95],'Maths':[60,80,58],'Science':[90,64,74],'French':[95,87,92],'Economic':[99,87,98]}\n",
        "df2=pd.DataFrame(dict2,index=['2018', '2019','2020'])\n",
        "print(df2)"
      ],
      "execution_count": 190,
      "outputs": [
        {
          "output_type": "stream",
          "text": [
            "      English  Maths  Science  French  Economic\n",
            "2018       85     60       90      95        99\n",
            "2019       73     80       64      87        87\n",
            "2020       95     58       74      92        98\n"
          ],
          "name": "stdout"
        }
      ]
    },
    {
      "cell_type": "code",
      "metadata": {
        "colab": {
          "base_uri": "https://localhost:8080/",
          "height": 111
        },
        "id": "13ESY-grQFsr",
        "outputId": "7a6a2fd9-e361-4d15-87f4-849f99118ad6"
      },
      "source": [
        "df1.merge(df2)"
      ],
      "execution_count": 192,
      "outputs": [
        {
          "output_type": "execute_result",
          "data": {
            "text/html": [
              "<div>\n",
              "<style scoped>\n",
              "    .dataframe tbody tr th:only-of-type {\n",
              "        vertical-align: middle;\n",
              "    }\n",
              "\n",
              "    .dataframe tbody tr th {\n",
              "        vertical-align: top;\n",
              "    }\n",
              "\n",
              "    .dataframe thead th {\n",
              "        text-align: right;\n",
              "    }\n",
              "</style>\n",
              "<table border=\"1\" class=\"dataframe\">\n",
              "  <thead>\n",
              "    <tr style=\"text-align: right;\">\n",
              "      <th></th>\n",
              "      <th>English</th>\n",
              "      <th>Maths</th>\n",
              "      <th>Science</th>\n",
              "      <th>French</th>\n",
              "      <th>Economic</th>\n",
              "    </tr>\n",
              "  </thead>\n",
              "  <tbody>\n",
              "    <tr>\n",
              "      <th>0</th>\n",
              "      <td>85</td>\n",
              "      <td>60</td>\n",
              "      <td>90</td>\n",
              "      <td>95</td>\n",
              "      <td>99</td>\n",
              "    </tr>\n",
              "    <tr>\n",
              "      <th>1</th>\n",
              "      <td>73</td>\n",
              "      <td>80</td>\n",
              "      <td>64</td>\n",
              "      <td>87</td>\n",
              "      <td>87</td>\n",
              "    </tr>\n",
              "  </tbody>\n",
              "</table>\n",
              "</div>"
            ],
            "text/plain": [
              "   English  Maths  Science  French  Economic\n",
              "0       85     60       90      95        99\n",
              "1       73     80       64      87        87"
            ]
          },
          "metadata": {
            "tags": []
          },
          "execution_count": 192
        }
      ]
    },
    {
      "cell_type": "code",
      "metadata": {
        "colab": {
          "base_uri": "https://localhost:8080/",
          "height": 142
        },
        "id": "28JLIM2TQiLF",
        "outputId": "80a3ef77-b69b-4ea3-d413-c3ce17e6047b"
      },
      "source": [
        "dict1['skill']='python'\n",
        "x=pd.DataFrame(dict1)\n",
        "x"
      ],
      "execution_count": 201,
      "outputs": [
        {
          "output_type": "execute_result",
          "data": {
            "text/html": [
              "<div>\n",
              "<style scoped>\n",
              "    .dataframe tbody tr th:only-of-type {\n",
              "        vertical-align: middle;\n",
              "    }\n",
              "\n",
              "    .dataframe tbody tr th {\n",
              "        vertical-align: top;\n",
              "    }\n",
              "\n",
              "    .dataframe thead th {\n",
              "        text-align: right;\n",
              "    }\n",
              "</style>\n",
              "<table border=\"1\" class=\"dataframe\">\n",
              "  <thead>\n",
              "    <tr style=\"text-align: right;\">\n",
              "      <th></th>\n",
              "      <th>English</th>\n",
              "      <th>Maths</th>\n",
              "      <th>Science</th>\n",
              "      <th>French</th>\n",
              "      <th>Economic</th>\n",
              "      <th>skill</th>\n",
              "    </tr>\n",
              "  </thead>\n",
              "  <tbody>\n",
              "    <tr>\n",
              "      <th>0</th>\n",
              "      <td>85</td>\n",
              "      <td>60</td>\n",
              "      <td>90</td>\n",
              "      <td>95</td>\n",
              "      <td>99</td>\n",
              "      <td>python</td>\n",
              "    </tr>\n",
              "    <tr>\n",
              "      <th>1</th>\n",
              "      <td>73</td>\n",
              "      <td>80</td>\n",
              "      <td>64</td>\n",
              "      <td>87</td>\n",
              "      <td>87</td>\n",
              "      <td>python</td>\n",
              "    </tr>\n",
              "    <tr>\n",
              "      <th>2</th>\n",
              "      <td>98</td>\n",
              "      <td>58</td>\n",
              "      <td>74</td>\n",
              "      <td>92</td>\n",
              "      <td>98</td>\n",
              "      <td>python</td>\n",
              "    </tr>\n",
              "  </tbody>\n",
              "</table>\n",
              "</div>"
            ],
            "text/plain": [
              "   English  Maths  Science  French  Economic   skill\n",
              "0       85     60       90      95        99  python\n",
              "1       73     80       64      87        87  python\n",
              "2       98     58       74      92        98  python"
            ]
          },
          "metadata": {
            "tags": []
          },
          "execution_count": 201
        }
      ]
    },
    {
      "cell_type": "code",
      "metadata": {
        "colab": {
          "base_uri": "https://localhost:8080/",
          "height": 142
        },
        "id": "6x32cESaRRRu",
        "outputId": "34637b55-6018-4dc6-914e-4ced78f5a107"
      },
      "source": [
        "dict2['skill']='python'\n",
        "c=pd.DataFrame(dict2)\n",
        "c"
      ],
      "execution_count": 202,
      "outputs": [
        {
          "output_type": "execute_result",
          "data": {
            "text/html": [
              "<div>\n",
              "<style scoped>\n",
              "    .dataframe tbody tr th:only-of-type {\n",
              "        vertical-align: middle;\n",
              "    }\n",
              "\n",
              "    .dataframe tbody tr th {\n",
              "        vertical-align: top;\n",
              "    }\n",
              "\n",
              "    .dataframe thead th {\n",
              "        text-align: right;\n",
              "    }\n",
              "</style>\n",
              "<table border=\"1\" class=\"dataframe\">\n",
              "  <thead>\n",
              "    <tr style=\"text-align: right;\">\n",
              "      <th></th>\n",
              "      <th>English</th>\n",
              "      <th>Maths</th>\n",
              "      <th>Science</th>\n",
              "      <th>French</th>\n",
              "      <th>Economic</th>\n",
              "      <th>skill</th>\n",
              "    </tr>\n",
              "  </thead>\n",
              "  <tbody>\n",
              "    <tr>\n",
              "      <th>0</th>\n",
              "      <td>85</td>\n",
              "      <td>60</td>\n",
              "      <td>90</td>\n",
              "      <td>95</td>\n",
              "      <td>99</td>\n",
              "      <td>python</td>\n",
              "    </tr>\n",
              "    <tr>\n",
              "      <th>1</th>\n",
              "      <td>73</td>\n",
              "      <td>80</td>\n",
              "      <td>64</td>\n",
              "      <td>87</td>\n",
              "      <td>87</td>\n",
              "      <td>python</td>\n",
              "    </tr>\n",
              "    <tr>\n",
              "      <th>2</th>\n",
              "      <td>95</td>\n",
              "      <td>58</td>\n",
              "      <td>74</td>\n",
              "      <td>92</td>\n",
              "      <td>98</td>\n",
              "      <td>python</td>\n",
              "    </tr>\n",
              "  </tbody>\n",
              "</table>\n",
              "</div>"
            ],
            "text/plain": [
              "   English  Maths  Science  French  Economic   skill\n",
              "0       85     60       90      95        99  python\n",
              "1       73     80       64      87        87  python\n",
              "2       95     58       74      92        98  python"
            ]
          },
          "metadata": {
            "tags": []
          },
          "execution_count": 202
        }
      ]
    },
    {
      "cell_type": "code",
      "metadata": {
        "colab": {
          "base_uri": "https://localhost:8080/",
          "height": 111
        },
        "id": "Plyu_dw9RYkg",
        "outputId": "102192ce-6d4f-47ca-bb3c-146c6422569e"
      },
      "source": [
        "x.merge(c)"
      ],
      "execution_count": 203,
      "outputs": [
        {
          "output_type": "execute_result",
          "data": {
            "text/html": [
              "<div>\n",
              "<style scoped>\n",
              "    .dataframe tbody tr th:only-of-type {\n",
              "        vertical-align: middle;\n",
              "    }\n",
              "\n",
              "    .dataframe tbody tr th {\n",
              "        vertical-align: top;\n",
              "    }\n",
              "\n",
              "    .dataframe thead th {\n",
              "        text-align: right;\n",
              "    }\n",
              "</style>\n",
              "<table border=\"1\" class=\"dataframe\">\n",
              "  <thead>\n",
              "    <tr style=\"text-align: right;\">\n",
              "      <th></th>\n",
              "      <th>English</th>\n",
              "      <th>Maths</th>\n",
              "      <th>Science</th>\n",
              "      <th>French</th>\n",
              "      <th>Economic</th>\n",
              "      <th>skill</th>\n",
              "    </tr>\n",
              "  </thead>\n",
              "  <tbody>\n",
              "    <tr>\n",
              "      <th>0</th>\n",
              "      <td>85</td>\n",
              "      <td>60</td>\n",
              "      <td>90</td>\n",
              "      <td>95</td>\n",
              "      <td>99</td>\n",
              "      <td>python</td>\n",
              "    </tr>\n",
              "    <tr>\n",
              "      <th>1</th>\n",
              "      <td>73</td>\n",
              "      <td>80</td>\n",
              "      <td>64</td>\n",
              "      <td>87</td>\n",
              "      <td>87</td>\n",
              "      <td>python</td>\n",
              "    </tr>\n",
              "  </tbody>\n",
              "</table>\n",
              "</div>"
            ],
            "text/plain": [
              "   English  Maths  Science  French  Economic   skill\n",
              "0       85     60       90      95        99  python\n",
              "1       73     80       64      87        87  python"
            ]
          },
          "metadata": {
            "tags": []
          },
          "execution_count": 203
        }
      ]
    },
    {
      "cell_type": "code",
      "metadata": {
        "id": "HSRqDewTRrYl"
      },
      "source": [
        "#################################################################################################################################\n",
        "                      #Day10task-completed-internity-Taran Sonkar\n",
        "#Date-18/June/20201"
      ],
      "execution_count": 204,
      "outputs": []
    },
    {
      "cell_type": "code",
      "metadata": {
        "id": "SHUvvAR1SGX6"
      },
      "source": [
        ""
      ],
      "execution_count": null,
      "outputs": []
    }
  ]
}